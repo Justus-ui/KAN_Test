{
 "cells": [
  {
   "cell_type": "code",
   "execution_count": 1,
   "metadata": {},
   "outputs": [],
   "source": [
    "from Kan_NN import Neural_Kan\n",
    "from kan import *\n"
   ]
  },
  {
   "cell_type": "code",
   "execution_count": 2,
   "metadata": {},
   "outputs": [],
   "source": [
    "import torch"
   ]
  },
  {
   "cell_type": "code",
   "execution_count": 3,
   "metadata": {},
   "outputs": [],
   "source": [
    "### define the objective function\n",
    "def f(X):\n",
    "    X_1 = X**(0.5)\n",
    "    X_2 = torch.sum(X_1, dim=1, keepdim=True)\n",
    "    X_3 = X_2**(.4521)\n",
    "    X_4 = torch.sum(X_3, dim=1, keepdim=True)\n",
    "    return X_4\n"
   ]
  },
  {
   "cell_type": "code",
   "execution_count": 3,
   "metadata": {},
   "outputs": [
    {
     "name": "stdout",
     "output_type": "stream",
     "text": [
      "torch.Size([1000, 1]) tensor(3.5540) tensor(1.5427)\n"
     ]
    }
   ],
   "source": [
    "def f(x):\n",
    "    # Fixed exponents between 0 and 1\n",
    "    alpha = 0.5\n",
    "    beta = 0.7\n",
    "    gamma = 0.3\n",
    "    delta = 0.8\n",
    "    epsilon = 0.6\n",
    "    omega = 0.4\n",
    "    \n",
    "    # First term: (x^alpha + (1 - x)^beta)^gamma\n",
    "    term1 = 10*torch.sum(x ** alpha, dim = 1)\n",
    "    term2 = 2*torch.sum((1.0001 - x) ** beta, dim = 1)\n",
    "    # Second term: (sin(2πx)^delta)^epsilon\n",
    "    term3 = torch.abs(torch.sin(2 * torch.pi * torch.sum(x**delta, dim = 1)))\n",
    "    term4= torch.sum(x**0.3, dim = 1)\n",
    "    result = (torch.abs((torch.sin(2 * torch.pi * (term1 ** .5)) + torch.cos(20 * torch.pi * (term2 ** .4))))**omega + torch.abs((term3**.67 + term4**0.1)))\n",
    "    return torch.reshape(result, [result.shape[0], 1])\n",
    "    #term3 = torch.abs(torch.cos(20 * torch.pi * x)) ** .345\n",
    "    #term3 = term3 ** .2345\n",
    "    #term3 = 0.5*torch.sum(term3, dim = 1)\n",
    "\n",
    "    #result = ((term1 + term2) ** omega + term3) ** .9\n",
    "    #return result\n",
    "# Example usage:\n",
    "n = 10  # length of input tensor\n",
    "x = torch.rand(1000,n, dtype=torch.float32)  # Example input tensor of size n\n",
    "\n",
    "\n",
    "result = f(x)\n",
    "print(result.shape, torch.max(result), torch.min(result))\n"
   ]
  },
  {
   "cell_type": "code",
   "execution_count": 4,
   "metadata": {},
   "outputs": [],
   "source": [
    "in_dim = 10"
   ]
  },
  {
   "cell_type": "code",
   "execution_count": 8,
   "metadata": {},
   "outputs": [
    {
     "name": "stdout",
     "output_type": "stream",
     "text": [
      "checkpoint directory created: ./model\n",
      "saving model version 0.0\n"
     ]
    },
    {
     "name": "stderr",
     "output_type": "stream",
     "text": [
      "description:   0%|                                                           | 0/20 [00:00<?, ?it/s]"
     ]
    },
    {
     "name": "stderr",
     "output_type": "stream",
     "text": [
      "| train_loss: 2.99e-01 | test_loss: 4.77e-01 | reg: 1.83e+01 | : 100%|█| 20/20 [00:15<00:00,  1.29it\n"
     ]
    },
    {
     "name": "stdout",
     "output_type": "stream",
     "text": [
      "saving model version 0.1\n",
      "saving model version 0.2\n"
     ]
    },
    {
     "name": "stderr",
     "output_type": "stream",
     "text": [
      "| train_loss: 9.20e-02 | test_loss: 7.91e-01 | reg: 1.84e+01 | : 100%|█| 20/20 [00:16<00:00,  1.22it"
     ]
    },
    {
     "name": "stdout",
     "output_type": "stream",
     "text": [
      "saving model version 0.3\n"
     ]
    },
    {
     "name": "stderr",
     "output_type": "stream",
     "text": [
      "\n"
     ]
    },
    {
     "data": {
      "text/plain": [
       "{'train_loss': [array(0.32597438, dtype=float32),\n",
       "  array(0.2725942, dtype=float32),\n",
       "  array(0.24034075, dtype=float32),\n",
       "  array(0.2174355, dtype=float32),\n",
       "  array(0.1950771, dtype=float32),\n",
       "  array(0.1905998, dtype=float32),\n",
       "  array(0.17406127, dtype=float32),\n",
       "  array(0.1593095, dtype=float32),\n",
       "  array(0.14827032, dtype=float32),\n",
       "  array(0.13964488, dtype=float32),\n",
       "  array(0.13444753, dtype=float32),\n",
       "  array(0.12664321, dtype=float32),\n",
       "  array(0.1207858, dtype=float32),\n",
       "  array(0.11449644, dtype=float32),\n",
       "  array(0.10903602, dtype=float32),\n",
       "  array(0.10742125, dtype=float32),\n",
       "  array(0.10171282, dtype=float32),\n",
       "  array(0.09799804, dtype=float32),\n",
       "  array(0.09469176, dtype=float32),\n",
       "  array(0.09203254, dtype=float32)],\n",
       " 'test_loss': [array(0.43219915, dtype=float32),\n",
       "  array(0.5329175, dtype=float32),\n",
       "  array(0.56647694, dtype=float32),\n",
       "  array(0.6129143, dtype=float32),\n",
       "  array(0.6457783, dtype=float32),\n",
       "  array(0.72175556, dtype=float32),\n",
       "  array(0.7397249, dtype=float32),\n",
       "  array(0.7694195, dtype=float32),\n",
       "  array(0.7997186, dtype=float32),\n",
       "  array(0.81746805, dtype=float32),\n",
       "  array(0.7373164, dtype=float32),\n",
       "  array(0.7552243, dtype=float32),\n",
       "  array(0.76777244, dtype=float32),\n",
       "  array(0.779543, dtype=float32),\n",
       "  array(0.78277, dtype=float32),\n",
       "  array(0.78141594, dtype=float32),\n",
       "  array(0.7845382, dtype=float32),\n",
       "  array(0.7865547, dtype=float32),\n",
       "  array(0.78582275, dtype=float32),\n",
       "  array(0.7908814, dtype=float32)],\n",
       " 'reg': [array(0., dtype=float32),\n",
       "  array(0., dtype=float32),\n",
       "  array(0., dtype=float32),\n",
       "  array(0., dtype=float32),\n",
       "  array(0., dtype=float32),\n",
       "  array(0., dtype=float32),\n",
       "  array(0., dtype=float32),\n",
       "  array(0., dtype=float32),\n",
       "  array(0., dtype=float32),\n",
       "  array(0., dtype=float32),\n",
       "  array(0., dtype=float32),\n",
       "  array(0., dtype=float32),\n",
       "  array(0., dtype=float32),\n",
       "  array(0., dtype=float32),\n",
       "  array(0., dtype=float32),\n",
       "  array(0., dtype=float32),\n",
       "  array(0., dtype=float32),\n",
       "  array(0., dtype=float32),\n",
       "  array(0., dtype=float32),\n",
       "  array(18.4197, dtype=float32)]}"
      ]
     },
     "execution_count": 8,
     "metadata": {},
     "output_type": "execute_result"
    }
   ],
   "source": [
    "model_kan = KAN(width=[in_dim,4,2,1], grid=3, k=3, seed=2)\n",
    "dataset = create_dataset(f, n_var=in_dim, ranges = [0,1])\n",
    "model_kan.fit(dataset, opt=\"LBFGS\", steps=20)\n",
    "model_kan = model_kan.refine(20)\n",
    "model_kan.fit(dataset, opt=\"LBFGS\", steps=20)"
   ]
  },
  {
   "cell_type": "code",
   "execution_count": 7,
   "metadata": {},
   "outputs": [
    {
     "name": "stdout",
     "output_type": "stream",
     "text": [
      "10 4\n",
      "Sequential(\n",
      "  (0): Linear(in_features=10, out_features=640, bias=True)\n",
      "  (1): BatchNorm1d(640, eps=1e-05, momentum=0.1, affine=True, track_running_stats=True)\n",
      "  (2): ReLU()\n",
      ")\n",
      "4 2\n",
      "Sequential(\n",
      "  (0): Linear(in_features=4, out_features=256, bias=True)\n",
      "  (1): BatchNorm1d(256, eps=1e-05, momentum=0.1, affine=True, track_running_stats=True)\n",
      "  (2): ReLU()\n",
      ")\n",
      "2 1\n",
      "Sequential(\n",
      "  (0): Linear(in_features=2, out_features=128, bias=True)\n",
      "  (1): BatchNorm1d(128, eps=1e-05, momentum=0.1, affine=True, track_running_stats=True)\n",
      "  (2): ReLU()\n",
      ")\n",
      "<torch.utils.data.dataloader.DataLoader object at 0x000002EBEFE72250>\n",
      "new version\n",
      " Epoch [1/200], Loss: 1.7931050,Test_Loss: 0.3698705\n",
      " Epoch [2/200], Loss: 0.5627437,Test_Loss: 0.7018101\n",
      " Epoch [3/200], Loss: 0.3619572,Test_Loss: 0.2266656\n",
      " Epoch [4/200], Loss: 0.2329512,Test_Loss: 0.3399916\n",
      " Epoch [5/200], Loss: 0.1960709,Test_Loss: 0.1885800\n",
      " Epoch [6/200], Loss: 0.1796221,Test_Loss: 0.1462521\n",
      " Epoch [7/200], Loss: 0.1740072,Test_Loss: 0.2665979\n",
      " Epoch [8/200], Loss: 0.1655162,Test_Loss: 0.1760113\n",
      " Epoch [9/200], Loss: 0.1647487,Test_Loss: 0.1626464\n",
      " Epoch [10/200], Loss: 0.1626961,Test_Loss: 0.1816572\n",
      " Epoch [11/200], Loss: 0.1607180,Test_Loss: 0.3773231\n",
      " Epoch [12/200], Loss: 0.1604881,Test_Loss: 0.1448663\n",
      " Epoch [13/200], Loss: 0.1595784,Test_Loss: 0.1615703\n",
      " Epoch [14/200], Loss: 0.1605861,Test_Loss: 0.1625530\n",
      " Epoch [15/200], Loss: 0.1591277,Test_Loss: 0.1521789\n",
      " Epoch [16/200], Loss: 0.1595510,Test_Loss: 0.1648646\n",
      " Epoch [17/200], Loss: 0.1616264,Test_Loss: 0.1507803\n",
      " Epoch [18/200], Loss: 0.1579906,Test_Loss: 0.1472067\n",
      " Epoch [19/200], Loss: 0.1578418,Test_Loss: 0.1494058\n",
      " Epoch [20/200], Loss: 0.1583512,Test_Loss: 0.1334543\n",
      " Epoch [21/200], Loss: 0.1591691,Test_Loss: 0.1339672\n",
      " Epoch [22/200], Loss: 0.1591784,Test_Loss: 0.1454030\n",
      " Epoch [23/200], Loss: 0.1584863,Test_Loss: 0.2014533\n",
      " Epoch [24/200], Loss: 0.1591622,Test_Loss: 0.1609183\n",
      " Epoch [25/200], Loss: 0.1583663,Test_Loss: 0.1382023\n",
      " Epoch [26/200], Loss: 0.1567897,Test_Loss: 0.1316032\n",
      " Epoch [27/200], Loss: 0.1584623,Test_Loss: 0.1637325\n",
      " Epoch [28/200], Loss: 0.1574708,Test_Loss: 0.1301005\n",
      " Epoch [29/200], Loss: 0.1566335,Test_Loss: 0.1296676\n",
      " Epoch [30/200], Loss: 0.1580667,Test_Loss: 0.1404750\n",
      " Epoch [31/200], Loss: 0.1580604,Test_Loss: 0.1724078\n",
      " Epoch [32/200], Loss: 0.1584099,Test_Loss: 0.1627727\n",
      " Epoch [33/200], Loss: 0.1569321,Test_Loss: 0.2159507\n",
      " Epoch [34/200], Loss: 0.1577523,Test_Loss: 0.1766697\n",
      " Epoch [35/200], Loss: 0.1580719,Test_Loss: 0.2013088\n",
      " Epoch [36/200], Loss: 0.1561876,Test_Loss: 0.1670122\n",
      " Epoch [37/200], Loss: 0.1580074,Test_Loss: 0.1380211\n",
      " Epoch [38/200], Loss: 0.1581652,Test_Loss: 0.1425471\n",
      " Epoch [39/200], Loss: 0.1572134,Test_Loss: 0.1489762\n",
      " Epoch [40/200], Loss: 0.1574545,Test_Loss: 0.1455570\n",
      " Epoch [41/200], Loss: 0.1565990,Test_Loss: 0.1490285\n",
      " Epoch [42/200], Loss: 0.1560233,Test_Loss: 0.1431883\n",
      " Epoch [43/200], Loss: 0.1567242,Test_Loss: 0.1431842\n",
      " Epoch [44/200], Loss: 0.1558311,Test_Loss: 0.1416525\n",
      " Epoch [45/200], Loss: 0.1561399,Test_Loss: 0.1610612\n",
      " Epoch [46/200], Loss: 0.1564177,Test_Loss: 0.1515483\n",
      " Epoch [47/200], Loss: 0.1561470,Test_Loss: 0.1446942\n",
      " Epoch [48/200], Loss: 0.1568975,Test_Loss: 0.1438758\n",
      " Epoch [49/200], Loss: 0.1561279,Test_Loss: 0.1451996\n",
      " Epoch [50/200], Loss: 0.1570006,Test_Loss: 0.1389352\n",
      " Epoch [51/200], Loss: 0.1567088,Test_Loss: 0.1374269\n",
      " Epoch [52/200], Loss: 0.1563644,Test_Loss: 0.1314251\n",
      " Epoch [53/200], Loss: 0.1564348,Test_Loss: 0.1555836\n",
      " Epoch [54/200], Loss: 0.1557747,Test_Loss: 0.1461850\n",
      " Epoch [55/200], Loss: 0.1558534,Test_Loss: 0.1420578\n",
      " Epoch [56/200], Loss: 0.1563977,Test_Loss: 0.1466312\n",
      " Epoch [57/200], Loss: 0.1562758,Test_Loss: 0.1610509\n",
      " Epoch [58/200], Loss: 0.1558510,Test_Loss: 0.1356037\n",
      " Epoch [59/200], Loss: 0.1551741,Test_Loss: 0.1602600\n",
      " Epoch [60/200], Loss: 0.1564224,Test_Loss: 0.1468596\n",
      " Epoch [61/200], Loss: 0.1567341,Test_Loss: 0.1373859\n",
      " Epoch [62/200], Loss: 0.1552896,Test_Loss: 0.1650537\n",
      " Epoch [63/200], Loss: 0.1559553,Test_Loss: 0.1462375\n"
     ]
    },
    {
     "ename": "KeyboardInterrupt",
     "evalue": "",
     "output_type": "error",
     "traceback": [
      "\u001b[1;31m---------------------------------------------------------------------------\u001b[0m",
      "\u001b[1;31mKeyboardInterrupt\u001b[0m                         Traceback (most recent call last)",
      "\u001b[1;32mc:\\Users\\prass\\Documents\\Code\\KAN\\KAN_Test\\Noise_KAN_vs_NN.ipynb Cell 7\u001b[0m line \u001b[0;36m5\n\u001b[0;32m      <a href='vscode-notebook-cell:/c%3A/Users/prass/Documents/Code/KAN/KAN_Test/Noise_KAN_vs_NN.ipynb#W1sZmlsZQ%3D%3D?line=2'>3</a>\u001b[0m \u001b[39mprint\u001b[39m(dataloader)\n\u001b[0;32m      <a href='vscode-notebook-cell:/c%3A/Users/prass/Documents/Code/KAN/KAN_Test/Noise_KAN_vs_NN.ipynb#W1sZmlsZQ%3D%3D?line=3'>4</a>\u001b[0m dataloader_test \u001b[39m=\u001b[39m model\u001b[39m.\u001b[39mget_dataloader(f, in_dim\u001b[39m=\u001b[39min_dim, num_samples\u001b[39m=\u001b[39m\u001b[39m10\u001b[39m, batch_size\u001b[39m=\u001b[39m\u001b[39m1\u001b[39m)\n\u001b[1;32m----> <a href='vscode-notebook-cell:/c%3A/Users/prass/Documents/Code/KAN/KAN_Test/Noise_KAN_vs_NN.ipynb#W1sZmlsZQ%3D%3D?line=4'>5</a>\u001b[0m model\u001b[39m.\u001b[39;49mfit(dataloader \u001b[39m=\u001b[39;49m dataloader,dataloader_test \u001b[39m=\u001b[39;49m dataloader_test, epochs\u001b[39m=\u001b[39;49m\u001b[39m200\u001b[39;49m, lr\u001b[39m=\u001b[39;49m\u001b[39m1e-3\u001b[39;49m)\n",
      "File \u001b[1;32mc:\\Users\\prass\\Documents\\Code\\KAN\\KAN_Test\\Kan_NN.py:82\u001b[0m, in \u001b[0;36mNeural_Kan.fit\u001b[1;34m(self, dataloader, dataloader_test, epochs, lr)\u001b[0m\n\u001b[0;32m     80\u001b[0m \u001b[39mself\u001b[39m\u001b[39m.\u001b[39mtrain()\n\u001b[0;32m     81\u001b[0m total_loss \u001b[39m=\u001b[39m \u001b[39m0.0\u001b[39m\n\u001b[1;32m---> 82\u001b[0m \u001b[39mfor\u001b[39;49;00m inputs, targets \u001b[39min\u001b[39;49;00m dataloader:\n\u001b[0;32m     83\u001b[0m     optimizer\u001b[39m.\u001b[39;49mzero_grad()\n\u001b[0;32m     84\u001b[0m     outputs \u001b[39m=\u001b[39;49m \u001b[39mself\u001b[39;49m(inputs)\n",
      "File \u001b[1;32mc:\\Users\\prass\\AppData\\Local\\Programs\\Python\\Python311\\Lib\\site-packages\\torch\\utils\\data\\dataloader.py:631\u001b[0m, in \u001b[0;36m_BaseDataLoaderIter.__next__\u001b[1;34m(self)\u001b[0m\n\u001b[0;32m    628\u001b[0m \u001b[39mif\u001b[39;00m \u001b[39mself\u001b[39m\u001b[39m.\u001b[39m_sampler_iter \u001b[39mis\u001b[39;00m \u001b[39mNone\u001b[39;00m:\n\u001b[0;32m    629\u001b[0m     \u001b[39m# TODO(https://github.com/pytorch/pytorch/issues/76750)\u001b[39;00m\n\u001b[0;32m    630\u001b[0m     \u001b[39mself\u001b[39m\u001b[39m.\u001b[39m_reset()  \u001b[39m# type: ignore[call-arg]\u001b[39;00m\n\u001b[1;32m--> 631\u001b[0m data \u001b[39m=\u001b[39m \u001b[39mself\u001b[39;49m\u001b[39m.\u001b[39;49m_next_data()\n\u001b[0;32m    632\u001b[0m \u001b[39mself\u001b[39m\u001b[39m.\u001b[39m_num_yielded \u001b[39m+\u001b[39m\u001b[39m=\u001b[39m \u001b[39m1\u001b[39m\n\u001b[0;32m    633\u001b[0m \u001b[39mif\u001b[39;00m \u001b[39mself\u001b[39m\u001b[39m.\u001b[39m_dataset_kind \u001b[39m==\u001b[39m _DatasetKind\u001b[39m.\u001b[39mIterable \u001b[39mand\u001b[39;00m \\\n\u001b[0;32m    634\u001b[0m         \u001b[39mself\u001b[39m\u001b[39m.\u001b[39m_IterableDataset_len_called \u001b[39mis\u001b[39;00m \u001b[39mnot\u001b[39;00m \u001b[39mNone\u001b[39;00m \u001b[39mand\u001b[39;00m \\\n\u001b[0;32m    635\u001b[0m         \u001b[39mself\u001b[39m\u001b[39m.\u001b[39m_num_yielded \u001b[39m>\u001b[39m \u001b[39mself\u001b[39m\u001b[39m.\u001b[39m_IterableDataset_len_called:\n",
      "File \u001b[1;32mc:\\Users\\prass\\AppData\\Local\\Programs\\Python\\Python311\\Lib\\site-packages\\torch\\utils\\data\\dataloader.py:675\u001b[0m, in \u001b[0;36m_SingleProcessDataLoaderIter._next_data\u001b[1;34m(self)\u001b[0m\n\u001b[0;32m    673\u001b[0m \u001b[39mdef\u001b[39;00m \u001b[39m_next_data\u001b[39m(\u001b[39mself\u001b[39m):\n\u001b[0;32m    674\u001b[0m     index \u001b[39m=\u001b[39m \u001b[39mself\u001b[39m\u001b[39m.\u001b[39m_next_index()  \u001b[39m# may raise StopIteration\u001b[39;00m\n\u001b[1;32m--> 675\u001b[0m     data \u001b[39m=\u001b[39m \u001b[39mself\u001b[39;49m\u001b[39m.\u001b[39;49m_dataset_fetcher\u001b[39m.\u001b[39;49mfetch(index)  \u001b[39m# may raise StopIteration\u001b[39;00m\n\u001b[0;32m    676\u001b[0m     \u001b[39mif\u001b[39;00m \u001b[39mself\u001b[39m\u001b[39m.\u001b[39m_pin_memory:\n\u001b[0;32m    677\u001b[0m         data \u001b[39m=\u001b[39m _utils\u001b[39m.\u001b[39mpin_memory\u001b[39m.\u001b[39mpin_memory(data, \u001b[39mself\u001b[39m\u001b[39m.\u001b[39m_pin_memory_device)\n",
      "File \u001b[1;32mc:\\Users\\prass\\AppData\\Local\\Programs\\Python\\Python311\\Lib\\site-packages\\torch\\utils\\data\\_utils\\fetch.py:54\u001b[0m, in \u001b[0;36m_MapDatasetFetcher.fetch\u001b[1;34m(self, possibly_batched_index)\u001b[0m\n\u001b[0;32m     52\u001b[0m \u001b[39melse\u001b[39;00m:\n\u001b[0;32m     53\u001b[0m     data \u001b[39m=\u001b[39m \u001b[39mself\u001b[39m\u001b[39m.\u001b[39mdataset[possibly_batched_index]\n\u001b[1;32m---> 54\u001b[0m \u001b[39mreturn\u001b[39;00m \u001b[39mself\u001b[39;49m\u001b[39m.\u001b[39;49mcollate_fn(data)\n",
      "File \u001b[1;32mc:\\Users\\prass\\AppData\\Local\\Programs\\Python\\Python311\\Lib\\site-packages\\torch\\utils\\data\\_utils\\collate.py:277\u001b[0m, in \u001b[0;36mdefault_collate\u001b[1;34m(batch)\u001b[0m\n\u001b[0;32m    216\u001b[0m \u001b[39mdef\u001b[39;00m \u001b[39mdefault_collate\u001b[39m(batch):\n\u001b[0;32m    217\u001b[0m \u001b[39m    \u001b[39m\u001b[39mr\u001b[39m\u001b[39m\"\"\"\u001b[39;00m\n\u001b[0;32m    218\u001b[0m \u001b[39m    Take in a batch of data and put the elements within the batch into a tensor with an additional outer dimension - batch size.\u001b[39;00m\n\u001b[0;32m    219\u001b[0m \n\u001b[1;32m   (...)\u001b[0m\n\u001b[0;32m    275\u001b[0m \u001b[39m        >>> default_collate(batch)  # Handle `CustomType` automatically\u001b[39;00m\n\u001b[0;32m    276\u001b[0m \u001b[39m    \"\"\"\u001b[39;00m\n\u001b[1;32m--> 277\u001b[0m     \u001b[39mreturn\u001b[39;00m collate(batch, collate_fn_map\u001b[39m=\u001b[39;49mdefault_collate_fn_map)\n",
      "File \u001b[1;32mc:\\Users\\prass\\AppData\\Local\\Programs\\Python\\Python311\\Lib\\site-packages\\torch\\utils\\data\\_utils\\collate.py:144\u001b[0m, in \u001b[0;36mcollate\u001b[1;34m(batch, collate_fn_map)\u001b[0m\n\u001b[0;32m    141\u001b[0m transposed \u001b[39m=\u001b[39m \u001b[39mlist\u001b[39m(\u001b[39mzip\u001b[39m(\u001b[39m*\u001b[39mbatch))  \u001b[39m# It may be accessed twice, so we use a list.\u001b[39;00m\n\u001b[0;32m    143\u001b[0m \u001b[39mif\u001b[39;00m \u001b[39misinstance\u001b[39m(elem, \u001b[39mtuple\u001b[39m):\n\u001b[1;32m--> 144\u001b[0m     \u001b[39mreturn\u001b[39;00m [collate(samples, collate_fn_map\u001b[39m=\u001b[39;49mcollate_fn_map) \u001b[39mfor\u001b[39;49;00m samples \u001b[39min\u001b[39;49;00m transposed]  \u001b[39m# Backwards compatibility.\u001b[39;00m\n\u001b[0;32m    145\u001b[0m \u001b[39melse\u001b[39;00m:\n\u001b[0;32m    146\u001b[0m     \u001b[39mtry\u001b[39;00m:\n",
      "File \u001b[1;32mc:\\Users\\prass\\AppData\\Local\\Programs\\Python\\Python311\\Lib\\site-packages\\torch\\utils\\data\\_utils\\collate.py:144\u001b[0m, in \u001b[0;36m<listcomp>\u001b[1;34m(.0)\u001b[0m\n\u001b[0;32m    141\u001b[0m transposed \u001b[39m=\u001b[39m \u001b[39mlist\u001b[39m(\u001b[39mzip\u001b[39m(\u001b[39m*\u001b[39mbatch))  \u001b[39m# It may be accessed twice, so we use a list.\u001b[39;00m\n\u001b[0;32m    143\u001b[0m \u001b[39mif\u001b[39;00m \u001b[39misinstance\u001b[39m(elem, \u001b[39mtuple\u001b[39m):\n\u001b[1;32m--> 144\u001b[0m     \u001b[39mreturn\u001b[39;00m [collate(samples, collate_fn_map\u001b[39m=\u001b[39;49mcollate_fn_map) \u001b[39mfor\u001b[39;00m samples \u001b[39min\u001b[39;00m transposed]  \u001b[39m# Backwards compatibility.\u001b[39;00m\n\u001b[0;32m    145\u001b[0m \u001b[39melse\u001b[39;00m:\n\u001b[0;32m    146\u001b[0m     \u001b[39mtry\u001b[39;00m:\n",
      "File \u001b[1;32mc:\\Users\\prass\\AppData\\Local\\Programs\\Python\\Python311\\Lib\\site-packages\\torch\\utils\\data\\_utils\\collate.py:121\u001b[0m, in \u001b[0;36mcollate\u001b[1;34m(batch, collate_fn_map)\u001b[0m\n\u001b[0;32m    119\u001b[0m \u001b[39mif\u001b[39;00m collate_fn_map \u001b[39mis\u001b[39;00m \u001b[39mnot\u001b[39;00m \u001b[39mNone\u001b[39;00m:\n\u001b[0;32m    120\u001b[0m     \u001b[39mif\u001b[39;00m elem_type \u001b[39min\u001b[39;00m collate_fn_map:\n\u001b[1;32m--> 121\u001b[0m         \u001b[39mreturn\u001b[39;00m collate_fn_map[elem_type](batch, collate_fn_map\u001b[39m=\u001b[39;49mcollate_fn_map)\n\u001b[0;32m    123\u001b[0m     \u001b[39mfor\u001b[39;00m collate_type \u001b[39min\u001b[39;00m collate_fn_map:\n\u001b[0;32m    124\u001b[0m         \u001b[39mif\u001b[39;00m \u001b[39misinstance\u001b[39m(elem, collate_type):\n",
      "File \u001b[1;32mc:\\Users\\prass\\AppData\\Local\\Programs\\Python\\Python311\\Lib\\site-packages\\torch\\utils\\data\\_utils\\collate.py:174\u001b[0m, in \u001b[0;36mcollate_tensor_fn\u001b[1;34m(batch, collate_fn_map)\u001b[0m\n\u001b[0;32m    172\u001b[0m     storage \u001b[39m=\u001b[39m elem\u001b[39m.\u001b[39m_typed_storage()\u001b[39m.\u001b[39m_new_shared(numel, device\u001b[39m=\u001b[39melem\u001b[39m.\u001b[39mdevice)\n\u001b[0;32m    173\u001b[0m     out \u001b[39m=\u001b[39m elem\u001b[39m.\u001b[39mnew(storage)\u001b[39m.\u001b[39mresize_(\u001b[39mlen\u001b[39m(batch), \u001b[39m*\u001b[39m\u001b[39mlist\u001b[39m(elem\u001b[39m.\u001b[39msize()))\n\u001b[1;32m--> 174\u001b[0m \u001b[39mreturn\u001b[39;00m torch\u001b[39m.\u001b[39;49mstack(batch, \u001b[39m0\u001b[39;49m, out\u001b[39m=\u001b[39;49mout)\n",
      "\u001b[1;31mKeyboardInterrupt\u001b[0m: "
     ]
    }
   ],
   "source": [
    "model = Neural_Kan(shape = [in_dim,4,2,1], h = [64])\n",
    "dataloader = model.get_dataloader(f, in_dim=in_dim, num_samples=4000, batch_size=8)\n",
    "print(dataloader)\n",
    "dataloader_test = model.get_dataloader(f, in_dim=in_dim, num_samples=10, batch_size=1)\n",
    "model.fit(dataloader = dataloader,dataloader_test = dataloader_test, epochs=200, lr=1e-3)\n"
   ]
  },
  {
   "cell_type": "code",
   "execution_count": 26,
   "metadata": {},
   "outputs": [
    {
     "data": {
      "image/png": "[encoded data removed]",
      "text/plain": [
       "<Figure size 500x400 with 6 Axes>"
      ]
     },
     "metadata": {},
     "output_type": "display_data"
    }
   ],
   "source": [
    "model_kan.plot()"
   ]
  },
  {
   "cell_type": "code",
   "execution_count": 30,
   "metadata": {},
   "outputs": [
    {
     "name": "stdout",
     "output_type": "stream",
     "text": [
      "fixing (0,0,0) with x, r2=0.9995760917663574, c=1\n",
      "fixing (0,1,0) with x, r2=0.9999150633811951, c=1\n",
      "fixing (1,0,0) with x, r2=0.9758377075195312, c=1\n",
      "saving model version 0.2\n"
     ]
    },
    {
     "data": {
      "text/latex": [
       "$\\displaystyle \\frac{962 x_{1}}{125} + \\frac{307 x_{2}}{40} + \\frac{4}{47}$"
      ],
      "text/plain": [
       "962*x_1/125 + 307*x_2/40 + 4/47"
      ]
     },
     "execution_count": 30,
     "metadata": {},
     "output_type": "execute_result"
    }
   ],
   "source": [
    "model_kan.auto_symbolic()\n",
    "sf = model_kan.symbolic_formula()[0][0]\n",
    "nsimplify(ex_round(ex_round(sf, 3),3))"
   ]
  },
  {
   "cell_type": "code",
   "execution_count": 28,
   "metadata": {},
   "outputs": [
    {
     "name": "stdout",
     "output_type": "stream",
     "text": [
      "  function  fitting r2    r2 loss  complexity  complexity loss  total loss\n",
      "0        x    0.999576 -11.170322           1                1   -1.434064\n",
      "1      cos    0.999753 -11.926939           2                2   -0.785388\n",
      "2      sin    0.999753 -11.926604           2                2   -0.785321\n",
      "3      x^2    0.999590 -11.215821           2                2   -0.643164\n",
      "4      exp    0.999589 -11.215207           2                2   -0.643041\n"
     ]
    },
    {
     "data": {
      "text/plain": [
       "('x',\n",
       " (<function kan.utils.<lambda>(x)>,\n",
       "  <function kan.utils.<lambda>(x)>,\n",
       "  1,\n",
       "  <function kan.utils.<lambda>(x, y_th)>),\n",
       " 0.9995760917663574,\n",
       " 1)"
      ]
     },
     "execution_count": 28,
     "metadata": {},
     "output_type": "execute_result"
    }
   ],
   "source": [
    "model_kan.suggest_symbolic(0,0,0)"
   ]
  }
 ],
 "metadata": {
  "kernelspec": {
   "display_name": "Python 3",
   "language": "python",
   "name": "python3"
  },
  "language_info": {
   "codemirror_mode": {
    "name": "ipython",
    "version": 3
   },
   "file_extension": ".py",
   "mimetype": "text/x-python",
   "name": "python",
   "nbconvert_exporter": "python",
   "pygments_lexer": "ipython3",
   "version": "3.11.0"
  }
 },
 "nbformat": 4,
 "nbformat_minor": 2
}
