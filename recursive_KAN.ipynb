{
 "cells": [
  {
   "cell_type": "code",
   "execution_count": 1,
   "metadata": {},
   "outputs": [],
   "source": [
    "import torch\n",
    "import torch.nn as nn\n",
    "\n",
    "class GRU(nn.Module):\n",
    "    def __init__(self, input_size, hidden_size, batch_first=True):\n",
    "        super(GRU, self).__init__()\n",
    "        self.hidden_size = hidden_size\n",
    "        # GRU layer\n",
    "        self.gru = nn.GRU(input_size, self.hidden_size, num_layers = 1)\n",
    "        \n",
    "        # Fully connected layer to map the hidden state to output\n",
    "        self.fc = nn.Linear(self.hidden_size, input_size)\n",
    "        \n",
    "    def forward(self, x):\n",
    "        batch_size = x.size(1)\n",
    "        x.size(2)\n",
    "        hidden_state = torch.ones(1,batch_size, self.hidden_size)#num_layer, batch_size, hidden_dim\n",
    "        iters = 10\n",
    "        print(x.shape)\n",
    "        out,h = self.gru(x, hidden_state)\n",
    "        print(out.shape)\n",
    "        print(self.fc(out[:, -1, :]).shape)\n",
    "        for t in range(iters):\n",
    "            out, hidden_state = self.gru(x, hidden_state)\n",
    "            x = self.fc(out[:, -1, :])\n",
    "            x = x.reshape(-1,1,input_size) \n",
    "        return x"
   ]
  },
  {
   "cell_type": "code",
   "execution_count": null,
   "metadata": {},
   "outputs": [],
   "source": [
    "\n",
    "class SparseNeuralNetwork(nn.Module):\n",
    "    def __init__(self, in_dim, out_dim, h = [8,4]):\n",
    "        super(SparseNeuralNetwork, self).__init__()\n",
    "        h = [1] + h\n",
    "        self.univariate_nn = nn.Sequential()\n",
    "        layers = []\n",
    "        self.masks = []\n",
    "        for layer in range(1,len(h)):\n",
    "            layers.append(nn.Linear(h[layer -1] * in_dim, h[layer] * in_dim))\n",
    "            layers.append(nn.ReLU())\n",
    "            self.masks.append(self.hidden_sparistiy_masks(h[layer] * in_dim, h[layer -1] * in_dim, h[layer - 1],h[layer]))\n",
    "        self.univariate_nn = nn.Sequential(*layers)\n",
    "        print(self.univariate_nn)\n",
    "        self.multiply_weight_masks()\n",
    "        self.fc2 = nn.Linear(h[-1] * in_dim, out_dim)\n",
    "\n",
    "    def multiply_weight_masks(self):\n",
    "        with torch.no_grad():\n",
    "            for i in range(0,len(self.univariate_nn),2):\n",
    "                self.univariate_nn[i].weight.mul_(self.masks[i // 2])\n",
    "\n",
    "    def multiply_grad_masks(self):\n",
    "        with torch.no_grad():\n",
    "            for i in range(0,len(self.univariate_nn),2):\n",
    "                self.univariate_nn[i].weight.grad.mul_(self.masks[i // 2])\n",
    "\n",
    "    def hidden_sparistiy_masks(self, out_dim=50, in_dim=5, input_neurons=1, output_neurons=10):\n",
    "        mask = torch.zeros(out_dim, in_dim)\n",
    "        for i in range(0,in_dim):\n",
    "            mask[i*output_neurons:output_neurons*(i + 1) , i*input_neurons:(i + 1)*input_neurons] = 1\n",
    "        mask = torch.vstack([mask for i in range(3)])\n",
    "        return mask\n",
    "\n",
    "    def forward(self, x):\n",
    "        hidden = self.univariate_nn(x)\n",
    "        output = self.fc2(hidden)\n",
    "        return output"
   ]
  }
 ],
 "metadata": {
  "kernelspec": {
   "display_name": "Python 3",
   "language": "python",
   "name": "python3"
  },
  "language_info": {
   "codemirror_mode": {
    "name": "ipython",
    "version": 3
   },
   "file_extension": ".py",
   "mimetype": "text/x-python",
   "name": "python",
   "nbconvert_exporter": "python",
   "pygments_lexer": "ipython3",
   "version": "3.11.0"
  }
 },
 "nbformat": 4,
 "nbformat_minor": 2
}
