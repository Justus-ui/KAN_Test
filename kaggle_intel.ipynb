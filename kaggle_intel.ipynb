{
 "cells": [
  {
   "cell_type": "code",
   "execution_count": null,
   "metadata": {},
   "outputs": [],
   "source": [
    "!python3 -m pip install kaggle"
   ]
  },
  {
   "cell_type": "code",
   "execution_count": null,
   "metadata": {},
   "outputs": [],
   "source": [
    "import kagglehub\n",
    "import os\n",
    "import numpy as np\n",
    "import pandas as pd\n",
    "import matplotlib.pyplot as plt\n",
    "import seaborn as sns\n"
   ]
  },
  {
   "cell_type": "code",
   "execution_count": null,
   "metadata": {},
   "outputs": [],
   "source": [
    "# Download latest version\n",
    "path = kagglehub.dataset_download(\"divyansh22/intel-berkeley-research-lab-sensor-data\")\n",
    "print(\"Path to dataset files:\", path)\n",
    "file_path = os.path.join(path, os.listdir(path)[0])\n",
    "print(file_path)"
   ]
  },
  {
   "cell_type": "code",
   "execution_count": null,
   "metadata": {},
   "outputs": [],
   "source": [
    "def load_data(file_path):\n",
    "    # Load the data from a text file without parsing dates upfront\n",
    "    df = pd.read_csv(file_path, sep=' ', header=None, names=['date', 'time', 'epoch', 'moteid', 'temperature', 'humidity', 'light', 'voltage'])\n",
    "    \n",
    "    # Combine 'date' and 'time' columns into a single datetime column\n",
    "    df['date_time'] = pd.to_datetime(df['date'] + ' ' + df['time'], errors='coerce')\n",
    "    \n",
    "    # Drop rows where 'date_time' couldn't be parsed correctly\n",
    "    df.dropna(subset=['date_time'], inplace=True)\n",
    "    \n",
    "    # Drop the original 'date' and 'time' columns\n",
    "    df.drop(columns=['date', 'time'], inplace=True)\n",
    "    \n",
    "    # Sort by 'date_time'\n",
    "    df.sort_values(by='date_time', inplace=True)\n",
    "    \n",
    "    # Drop rows where other columns contain NaN\n",
    "    df.dropna(subset=['moteid', 'temperature', 'humidity', 'voltage', 'light'], inplace=True)\n",
    "    df['moteid'] = df['moteid'].astype(int)\n",
    "    df['timestamp'] = df['date_time'].dt.floor('30s')\n",
    "    return df"
   ]
  },
  {
   "cell_type": "code",
   "execution_count": null,
   "metadata": {},
   "outputs": [],
   "source": [
    "df = load_data(file_path)"
   ]
  }
 ],
 "metadata": {
  "language_info": {
   "name": "python"
  }
 },
 "nbformat": 4,
 "nbformat_minor": 2
}
