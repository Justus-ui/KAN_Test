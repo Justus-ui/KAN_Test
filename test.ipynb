{
 "cells": [
  {
   "cell_type": "code",
   "execution_count": 9,
   "metadata": {},
   "outputs": [],
   "source": [
    "import torch\n",
    "from torch import nn\n",
    "import matplotlib.pyplot as plt\n",
    "device = torch.device(\"cuda\" if torch.cuda.is_available() else \"cpu\")"
   ]
  },
  {
   "cell_type": "code",
   "execution_count": 1,
   "metadata": {},
   "outputs": [],
   "source": [
    "import torch\n",
    "import torch.nn as nn\n",
    "\n",
    "class GRU(nn.Module):\n",
    "    def __init__(self, input_size, hidden_size, batch_first=True):\n",
    "        super(GRU, self).__init__()\n",
    "        self.hidden_size = hidden_size\n",
    "        # GRU layer\n",
    "        self.gru = nn.GRU(input_size, self.hidden_size, num_layers = 1)\n",
    "        \n",
    "        # Fully connected layer to map the hidden state to output\n",
    "        self.fc = nn.Linear(self.hidden_size, input_size)\n",
    "        \n",
    "    def forward(self, x):\n",
    "        batch_size = x.size(1)\n",
    "        x.size(2)\n",
    "        hidden_state = torch.ones(1,batch_size, self.hidden_size)#num_layer, batch_size, hidden_dim\n",
    "        iters = 10\n",
    "        print(x.shape)\n",
    "        out,h = self.gru(x, hidden_state)\n",
    "        print(out.shape)\n",
    "        print(self.fc(out[:, -1, :]).shape)\n",
    "        for t in range(iters):\n",
    "            out, hidden_state = self.gru(x, hidden_state)\n",
    "            x = self.fc(out[:, -1, :])\n",
    "            x = x.reshape(-1,1,input_size) \n",
    "        return x"
   ]
  },
  {
   "cell_type": "code",
   "execution_count": 8,
   "metadata": {},
   "outputs": [],
   "source": [
    "test = nn.GRU(1, 16, num_layers = 1)"
   ]
  },
  {
   "cell_type": "code",
   "execution_count": 31,
   "metadata": {},
   "outputs": [
    {
     "name": "stdout",
     "output_type": "stream",
     "text": [
      "torch.Size([48, 16]) torch.Size([48, 1])\n"
     ]
    }
   ],
   "source": [
    "print(test.weight_hh_l0.data.shape, test.weight_ih_l0.data.shape)"
   ]
  }
 ],
 "metadata": {
  "kernelspec": {
   "display_name": "Python 3",
   "language": "python",
   "name": "python3"
  },
  "language_info": {
   "codemirror_mode": {
    "name": "ipython",
    "version": 3
   },
   "file_extension": ".py",
   "mimetype": "text/x-python",
   "name": "python",
   "nbconvert_exporter": "python",
   "pygments_lexer": "ipython3",
   "version": "3.11.0"
  }
 },
 "nbformat": 4,
 "nbformat_minor": 2
}
