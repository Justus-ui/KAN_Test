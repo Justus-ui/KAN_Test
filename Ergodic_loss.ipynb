{
 "cells": [
  {
   "cell_type": "code",
   "execution_count": 220,
   "metadata": {},
   "outputs": [],
   "source": [
    "import torch\n",
    "import numpy as np\n",
    "import matplotlib.pyplot as plt\n",
    "\n",
    "def compute_Ct(x, X, eps=1e-3):\n",
    "    \"\"\"\n",
    "    Computes C_t(x, X) which counts the number of times the distance between each\n",
    "    element in X and x is less than eps (threshold).\n",
    "    \n",
    "    Args:\n",
    "    - x (torch.Tensor): A tensor representing a batch of reference points (num_x, in_dim).\n",
    "    - X (torch.Tensor): Matrix of shape (num_timesteps, N_Agents, in_dim).\n",
    "    - eps (float): Small radius defining the threshold for the ball.\n",
    "    \n",
    "    Returns:\n",
    "    - Ct (torch.Tensor): A tensor with the count for each x in the batch (num_x,).\n",
    "    \"\"\"\n",
    "    distance = torch.linalg.vector_norm(X.unsqueeze(0) - x.unsqueeze(1).unsqueeze(1).unsqueeze(1), dim=4, ord = float('inf'))  # Broadcasting over x\n",
    "    #Ct_approx = torch.exp(-0.5 * ((distance - eps) / 1e-4)**2).sum(dim=(1, 2))\n",
    "    Ct_approx = (torch.clamp(eps - distance, min=0) * (3 / eps)).sum(dim=(2, 3))\n",
    "    Ct_true = (distance < eps).float().sum(dim=(2, 3))\n",
    "    #Ct =distance.sum(dim=(1, 2))\n",
    "    #print(Ct.grad_fn)\n",
    "    return Ct_true, Ct_approx\n",
    "\n",
    "# Create synthetic data\n",
    "num_timesteps = 10\n",
    "N_Agents = 5\n",
    "in_dim = 2\n",
    "#num_grid_points = 100\n",
    "\n",
    "# Random tensor representing agent positions (X)\n",
    "X = torch.randn(16, num_timesteps, N_Agents, in_dim, requires_grad = True)\n",
    "# Define a range for x (reference points) over a meshgrid\n",
    "eps = 1e-3\n",
    "x_vals = torch.arange(0 ,1, eps * 2)  # Define range for x (1D grid)\n",
    "num_grid_points = x_vals.shape[0]\n",
    "X1, X2 = torch.meshgrid(x_vals, x_vals)  # Create a 2D meshgrid for x\n",
    "\n",
    "# Flatten the meshgrid to make it easier to handle in batches\n",
    "x_grid = torch.stack([X1.flatten(), X2.flatten()], dim=1)  # Shape (num_x, 2), where num_x is the number of x values\n",
    "Ct_values = compute_Ct(x_grid, X, eps)"
   ]
  },
  {
   "cell_type": "code",
   "execution_count": 218,
   "metadata": {},
   "outputs": [
    {
     "name": "stdout",
     "output_type": "stream",
     "text": [
      "torch.Size([10000, 16])\n"
     ]
    }
   ],
   "source": [
    "print(Ct_values[0].shape)\n"
   ]
  },
  {
   "cell_type": "code",
   "execution_count": 175,
   "metadata": {},
   "outputs": [],
   "source": [
    "from torch import nn"
   ]
  },
  {
   "cell_type": "code",
   "execution_count": 179,
   "metadata": {},
   "outputs": [
    {
     "data": {
      "text/plain": [
       "tensor(0.0291)"
      ]
     },
     "execution_count": 179,
     "metadata": {},
     "output_type": "execute_result"
    }
   ],
   "source": []
  },
  {
   "cell_type": "code",
   "execution_count": 224,
   "metadata": {},
   "outputs": [],
   "source": [
    "coeffs = torch.fft.rfft2(Ct_values[0][:,1].reshape(num_grid_points,num_grid_points), norm = 'ortho').real\n",
    "#crit = nn.MSELoss()\n",
    "#loss = crit(coeffs, torch.randn_like(coeffs, requires_grad=False))\n",
    "#loss.backward()\n"
   ]
  },
  {
   "cell_type": "code",
   "execution_count": 6,
   "metadata": {},
   "outputs": [
    {
     "data": {
      "text/plain": [
       "tensor(0.)"
      ]
     },
     "execution_count": 6,
     "metadata": {},
     "output_type": "execute_result"
    }
   ],
   "source": [
    "\"\"\" function C_t \"\"\"\n",
    "import torch\n",
    "\n",
    "# Function to compute the indicator function I_B(x_j(t_i), epsilon)\n",
    "def indicator_function(x, x_j_point, epsilon=1e-2):\n",
    "    distance = torch.norm(x - x_j_point)\n",
    "    return (distance < epsilon).float()\n",
    "\n",
    "# Function to compute C_t(x)\n",
    "def compute_Ct(x, X):\n",
    "    \"\"\"\n",
    "    X is matrix of computed values X_j shape(num_timessteps, N_Agents, in_dim)\n",
    "    eps: radius of ball\n",
    "    \"\"\"\n",
    "    eps = 1e-3\n",
    "    return (torch.linalg.vector_norm(X - x , axis = 2) < eps).float().sum()\n",
    "\n",
    "n = 10\n",
    "N = 100\n",
    "X = torch.randn([N,n,2])\n",
    "compute_Ct(torch.tensor([0.1,0.5]), X)"
   ]
  },
  {
   "cell_type": "code",
   "execution_count": 136,
   "metadata": {},
   "outputs": [
    {
     "name": "stdout",
     "output_type": "stream",
     "text": [
      "0.5290007198584084\n"
     ]
    },
    {
     "data": {
      "text/plain": [
       "tensor(0.7273, dtype=torch.float64)"
      ]
     },
     "execution_count": 136,
     "metadata": {},
     "output_type": "execute_result"
    }
   ],
   "source": [
    "import numpy as np\n",
    "from scipy.integrate import nquad\n",
    "\n",
    "def evaluate_integral(k, L):\n",
    "    \"\"\"\n",
    "    Evaluate the integral for multiple k and L values.\n",
    "    \n",
    "    Parameters:\n",
    "    k: List of k values [k1, k2, ...]\n",
    "    L: List of L values [L1, L2, ...]\n",
    "\n",
    "    Returns:\n",
    "    Tensor of the square root of the evaluated integrals.\n",
    "    \"\"\"\n",
    "    def integrand(*args):\n",
    "        result = np.array([1.0])\n",
    "        for i,coeff in enumerate(k.numpy()):\n",
    "            result *= np.cos(coeff * args[i])**2\n",
    "        return result\n",
    "\n",
    "    # Define the integration limits for all dimensions\n",
    "    limits = [(0, L) for L in L.numpy()]\n",
    "\n",
    "    # Compute the nested integral\n",
    "    integral, _ = nquad(integrand, limits)\n",
    "    return torch.tensor(np.sqrt(integral))"
   ]
  },
  {
   "cell_type": "code",
   "execution_count": 279,
   "metadata": {},
   "outputs": [
    {
     "name": "stdout",
     "output_type": "stream",
     "text": [
      "torch.Size([100, 100])\n",
      "torch.Size([100, 100])\n",
      "torch.Size([100, 100]) torch.Size([100, 100])\n",
      "mu_k = 0.9999995827674866\n"
     ]
    }
   ],
   "source": [
    "def mu_k_n_dim(k, mu_function, grid_step=0.01):\n",
    "    \"\"\"\n",
    "    Computes the Fourier coefficient µ_k for the given Fourier indices k_indices in n dimensions.\n",
    "    \n",
    "    Args:\n",
    "    - k_indices: List of integer indices for the Fourier modes (k1, k2, ..., kn).\n",
    "    - mu_function: Function that takes (x1, x2, ..., xn) and returns the value of µ(x1, x2, ..., xn).\n",
    "    - domain_lengths: List of lengths of the domain for each dimension (default is [0,1] in each dimension).\n",
    "    - grid_step: The step size for discretizing the domain.\n",
    "\n",
    "    Returns:\n",
    "    - The Fourier coefficient µ_k.\n",
    "    \"\"\"\n",
    "\n",
    "    L = torch.tensor([1.0, 1.0])\n",
    "    n = len(k)\n",
    "    grids = [torch.arange(0, L, grid_step) for L in L]\n",
    "    meshgrid = torch.meshgrid(*grids)\n",
    "    X = torch.stack(meshgrid, dim=-1)\n",
    "    mu_values = mu_function(*X.unbind(dim=-1))\n",
    "\n",
    "    # Fourier coefficients calculation\n",
    "    k = torch.tensor(k, dtype=torch.float32)\n",
    "    fourier_factors = [torch.cos(k[i] * X[..., i] * torch.pi / L[i]) for i in range(n)]\n",
    "    print(fourier_factors[0].shape)\n",
    "    # Compute the Fourier basis function f_k(x1, x2, ..., xn)\n",
    "    fk = torch.prod(torch.stack(fourier_factors, dim=-1), dim=-1)\n",
    "    print(fk.shape)\n",
    "    # Compute the normalization constant h_k\n",
    "    hk = torch.sqrt(torch.sum(fk**2)) * grid_step\n",
    "\n",
    "    # Normalize the Fourier basis function f_k\n",
    "    fk = fk / hk\n",
    "\n",
    "    # Compute the discrete sum to approximate the inner product (integral)\n",
    "    \n",
    "    # Compute the Fourier coefficient µ_k\n",
    "    print(fk.shape, mu_values.shape)\n",
    "    mu_k_value = torch.sum(mu_values * fk * grid_step**2)\n",
    "\n",
    "    return mu_k_value.item()\n",
    "\n",
    "# Example usage:\n",
    "# Define a function for the PDF (example: Gaussian function)\n",
    "def mu_function(*x):\n",
    "    # Assuming Gaussian PDF centered at (0.5, 0.5, ..., 0.5)\n",
    "    return torch.ones([x[i].shape[0] for i in range(len(x))])\n",
    "    return (1 / ((torch.pi) *(0.01))) * torch.exp(-sum([(xi - 0.5)**2 for xi in x]) / 0.01)\n",
    "# Compute the Fourier coefficient for a given k_indices (e.g., [1, 1, 1] for 3 dimensions)\n",
    "k_indices = [0, 0]\n",
    "result = mu_k_n_dim(k_indices, mu_function)\n",
    "\n",
    "print(f\"mu_k = {result}\")"
   ]
  },
  {
   "cell_type": "code",
   "execution_count": 249,
   "metadata": {},
   "outputs": [
    {
     "name": "stdout",
     "output_type": "stream",
     "text": [
      "tensor([[[[1., 1., 1.],\n",
      "          [1., 1., 1.]],\n",
      "\n",
      "         [[1., 1., 1.],\n",
      "          [1., 1., 1.]]],\n",
      "\n",
      "\n",
      "        [[[1., 1., 1.],\n",
      "          [1., 1., 1.]],\n",
      "\n",
      "         [[1., 1., 1.],\n",
      "          [1., 1., 1.]]]])\n"
     ]
    },
    {
     "data": {
      "text/plain": [
       "tensor([[[1., 1.],\n",
       "         [1., 1.]],\n",
       "\n",
       "        [[1., 1.],\n",
       "         [1., 1.]]])"
      ]
     },
     "execution_count": 249,
     "metadata": {},
     "output_type": "execute_result"
    }
   ],
   "source": [
    "x = torch.ones([2,2,2,3])\n",
    "print(x)\n",
    "x[...,1]"
   ]
  },
  {
   "cell_type": "code",
   "execution_count": 233,
   "metadata": {},
   "outputs": [],
   "source": [
    "from itertools import product\n",
    "class Ergodicity_Loss(nn.Module):\n",
    "    def __init__(self, N_Agents, n_timesteps):\n",
    "        super(Ergodicity_Loss, self).__init__()\n",
    "        self.N_Agents = N_Agents\n",
    "        self.n_timesteps = n_timesteps\n",
    "        self.L = torch.tensor([1.,1.]) ## rectangular area\n",
    "        self.in_dim = 2 ## Dimension of rect\n",
    "\n",
    "    def compute_normalization_constant(self,k):\n",
    "        \"\"\" \n",
    "        h_k\n",
    "        \"\"\"\n",
    "        return evaluate_integral(k, self.L)\n",
    "\n",
    "    def fourier_basis(self,x, k):\n",
    "        \"\"\" \n",
    "        x: State at time t_k [Num_timesteps ,Batch_size, N_Agents, in_dim]\n",
    "        k torch.tensor (in_dim)\n",
    "        \"\"\"\n",
    "        k *= torch.pi * (self.L)**(-1)\n",
    "        h_k = self.compute_normalization_constant(k)\n",
    "        return (torch.cos(x * k.view(1,1,1,-1)).prod(dim = -1)) / h_k\n",
    "\n",
    "        \n",
    "    def compute_fourier_coefficients_agents_at_time_t(self,x, k):\n",
    "        \"\"\"\n",
    "        x: State of Agents [Num_timesteps ,Batch_size, N_Agents, in_dim] \n",
    "        \"\"\"\n",
    "        # For now i just put as calculaated t 1s\n",
    "        transform = self.fourier_basis(x,k)\n",
    "        c_k = transform.sum(dim=-2).sum(dim=-1)    \n",
    "        return c_k\n",
    "\n",
    "    def compute_fourier_coefficients_density(self,x, k):\n",
    "        \"\"\"\n",
    "        x: State of Agents [Num_timesteps ,Batch_size, N_Agents, in_dim] \n",
    "        \"\"\"\n",
    "        # For now i just put as calculaated t 1s\n",
    "        transform = self.fourier_basis(x.view(-1, self.in_dim),k)\n",
    "        result = transform.view(self.n_timesteps, -1 , self.N_Agents)\n",
    "        c_k = result.sum(dim=0).sum(dim=1, keepdim=True)         \n",
    "        return c_k\n",
    "\n",
    "    def forward(self,x):\n",
    "        \"\"\"\n",
    "        x: State of Agents [Num_timesteps ,Batch_size, N_Agents, in_dim] \n",
    "        \"\"\"\n",
    "        loss = torch.zeros(1)\n",
    "        k = list(range(n+1))\n",
    "        for sets in product(k, repeat = 4):\n",
    "            loss += (self.compute_fourier_coefficients(x,k) - self.compute_fourier_coefficients_density(k))\n",
    "\n",
    "        \n",
    "        "
   ]
  },
  {
   "cell_type": "code",
   "execution_count": 234,
   "metadata": {},
   "outputs": [
    {
     "name": "stdout",
     "output_type": "stream",
     "text": [
      "tensor(-0.0033+0.0010j)\n"
     ]
    },
    {
     "data": {
      "text/plain": [
       "tensor(0.6824, grad_fn=<SelectBackward0>)"
      ]
     },
     "execution_count": 234,
     "metadata": {},
     "output_type": "execute_result"
    }
   ],
   "source": [
    "j = 6\n",
    "k = 499.\n",
    "m = 499. \n",
    "coeffs = torch.fft.fft2(Ct_values[0][:,j].reshape(num_grid_points,num_grid_points), norm = 'ortho')\n",
    "print(coeffs[int(k),int(m)])\n",
    "Loss = Ergodicity_Loss(N_Agents, num_timesteps)\n",
    "Loss.compute_fourier_coefficients_agents_at_time_t(X, k = torch.tensor([k,m]))[j]"
   ]
  },
  {
   "cell_type": "code",
   "execution_count": null,
   "metadata": {},
   "outputs": [],
   "source": [
    "# Define grid size and frequency components\n",
    "N1, N2 = 128, 128\n",
    "K1, K2 = 1, 1  # Example frequencies\n",
    "x1 = torch.linspace(0, 2 * torch.pi, N1)\n",
    "x2 = torch.linspace(0, 2 * torch.pi, N2)\n",
    "\n",
    "# Create a 2D grid of values (x1, x2)\n",
    "X1, X2 = torch.meshgrid(x1, x2)\n",
    "Loss.fourier_basis()\n",
    "f_k_fft = torch.fft.fft2(fk)\n",
    "print(f_k_fft)"
   ]
  },
  {
   "cell_type": "code",
   "execution_count": 229,
   "metadata": {},
   "outputs": [
    {
     "data": {
      "text/plain": [
       "torch.Size([500, 500])"
      ]
     },
     "execution_count": 229,
     "metadata": {},
     "output_type": "execute_result"
    }
   ],
   "source": [
    "coeffs.shape"
   ]
  },
  {
   "cell_type": "code",
   "execution_count": null,
   "metadata": {},
   "outputs": [],
   "source": [
    "x1 = torch.linspace(0, 1)  # Grid for x1\n",
    "x2 = torch.linspace(0, 1)  # Grid for x2\n",
    "X1, X2 = torch.meshgrid(x1, x2)\n",
    "Z = compute_Ct(X1, X2)\n",
    "fftn = torch.fft.fftn(x)"
   ]
  }
 ],
 "metadata": {
  "kernelspec": {
   "display_name": "Python 3",
   "language": "python",
   "name": "python3"
  },
  "language_info": {
   "codemirror_mode": {
    "name": "ipython",
    "version": 3
   },
   "file_extension": ".py",
   "mimetype": "text/x-python",
   "name": "python",
   "nbconvert_exporter": "python",
   "pygments_lexer": "ipython3",
   "version": "3.11.0"
  }
 },
 "nbformat": 4,
 "nbformat_minor": 2
}
