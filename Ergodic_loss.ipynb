{
 "cells": [
  {
   "cell_type": "code",
   "execution_count": 3,
   "metadata": {},
   "outputs": [
    {
     "name": "stdout",
     "output_type": "stream",
     "text": [
      "Fourier coefficients c_k(t) for k = ( 1 , 1 ):\n",
      "tensor([0.1990, 0.3516, 0.8914, 0.7726, 0.8371])\n"
     ]
    }
   ],
   "source": [
    "import torch\n",
    "L1, L2 = 1.0, 1.0 \n",
    "N = 5  \n",
    "n = 10   \n",
    "k1, k2 = 1, 1\n",
    "\n",
    "def compute_normalization_constant(k1, k2, L1, L2):\n",
    "    return torch.tensor(((L1 * L2) / 2)**0.5)\n",
    "\n",
    "x_j = torch.randn(N, n, 2)  \n",
    "\n",
    "def fourier_basis(x, k1, k2, h_k):\n",
    "    return (1 / h_k) * torch.cos(k1 * x[:, 0]) * torch.cos(k2 * x[:, 1])\n",
    "\n",
    "def compute_fourier_coefficients(x_j, k1, k2, L1, L2):\n",
    "    N_t = x_j.shape[0]  \n",
    "    n = x_j.shape[1]   \n",
    "    h_k = compute_normalization_constant(k1, k2, L1, L2)\n",
    "    c_k = torch.zeros(N_t)\n",
    "\n",
    "    for j in range(N_t):\n",
    "        f_k_values = fourier_basis(x_j[j], k1, k2, h_k)\n",
    "        c_k[j] = torch.sum(f_k_values) / n\n",
    "    \n",
    "    return c_k\n",
    "c_k = compute_fourier_coefficients(x_j, k1, k2, L1, L2)\n",
    "print(\"Fourier coefficients c_k(t) for k = (\", k1, \",\", k2, \"):\")\n",
    "print(c_k)\n"
   ]
  },
  {
   "cell_type": "code",
   "execution_count": 16,
   "metadata": {},
   "outputs": [
    {
     "name": "stdout",
     "output_type": "stream",
     "text": [
      "tensor([0.1000, 0.5000]) tensor([ 0.9456, -0.6218])\n",
      "tensor([0.1000, 0.5000]) tensor([0.1495, 1.4365])\n",
      "tensor([0.1000, 0.5000]) tensor([-0.1806,  0.0332])\n",
      "tensor([0.1000, 0.5000]) tensor([ 0.3768, -1.9320])\n",
      "tensor([0.1000, 0.5000]) tensor([-1.1082,  0.0139])\n",
      "tensor([0.1000, 0.5000]) tensor([0.3874, 0.9722])\n",
      "tensor([0.1000, 0.5000]) tensor([2.1498, 0.6019])\n",
      "tensor([0.1000, 0.5000]) tensor([-0.5226,  1.1829])\n",
      "tensor([0.1000, 0.5000]) tensor([-0.6185, -0.0812])\n",
      "tensor([0.1000, 0.5000]) tensor([-0.0319,  1.3964])\n",
      "tensor([0.1000, 0.5000]) tensor([0.5189, 0.2758])\n",
      "tensor([0.1000, 0.5000]) tensor([-0.3546,  1.2036])\n",
      "tensor([0.1000, 0.5000]) tensor([0.5321, 1.4455])\n",
      "tensor([0.1000, 0.5000]) tensor([ 0.9133, -1.1659])\n",
      "tensor([0.1000, 0.5000]) tensor([-1.8276, -0.5447])\n",
      "tensor([0.1000, 0.5000]) tensor([-0.8559,  0.8936])\n",
      "tensor([0.1000, 0.5000]) tensor([ 0.5434, -0.1795])\n",
      "tensor([0.1000, 0.5000]) tensor([-1.8175,  1.7174])\n",
      "tensor([0.1000, 0.5000]) tensor([ 0.2254, -1.1306])\n",
      "tensor([0.1000, 0.5000]) tensor([-0.9536,  0.0619])\n",
      "tensor([0.1000, 0.5000]) tensor([-1.5881,  0.9607])\n",
      "tensor([0.1000, 0.5000]) tensor([-0.2498, -0.1309])\n",
      "tensor([0.1000, 0.5000]) tensor([-1.2887, -0.4083])\n",
      "tensor([0.1000, 0.5000]) tensor([ 0.9713, -0.3618])\n",
      "tensor([0.1000, 0.5000]) tensor([-1.1957,  0.2964])\n",
      "tensor([0.1000, 0.5000]) tensor([ 0.5693, -1.6440])\n",
      "tensor([0.1000, 0.5000]) tensor([-0.5129, -0.8909])\n",
      "tensor([0.1000, 0.5000]) tensor([0.6113, 0.5514])\n",
      "tensor([0.1000, 0.5000]) tensor([-2.1554,  0.0457])\n",
      "tensor([0.1000, 0.5000]) tensor([-1.3979,  0.1209])\n",
      "tensor([0.1000, 0.5000]) tensor([-1.1754, -0.5470])\n",
      "tensor([0.1000, 0.5000]) tensor([1.6477, 0.3123])\n",
      "tensor([0.1000, 0.5000]) tensor([-0.8695,  0.0386])\n",
      "tensor([0.1000, 0.5000]) tensor([-0.7907,  0.5464])\n",
      "tensor([0.1000, 0.5000]) tensor([0.8120, 0.0832])\n",
      "tensor([0.1000, 0.5000]) tensor([ 0.0830, -0.0013])\n",
      "tensor([0.1000, 0.5000]) tensor([ 0.1617, -1.5815])\n",
      "tensor([0.1000, 0.5000]) tensor([0.3886, 0.8371])\n",
      "tensor([0.1000, 0.5000]) tensor([0.5731, 0.4871])\n",
      "tensor([0.1000, 0.5000]) tensor([-0.9229, -0.6339])\n",
      "tensor([0.1000, 0.5000]) tensor([0.6829, 0.9510])\n",
      "tensor([0.1000, 0.5000]) tensor([-0.8995, -3.0278])\n",
      "tensor([0.1000, 0.5000]) tensor([0.8435, 0.5800])\n",
      "tensor([0.1000, 0.5000]) tensor([-0.1461, -0.2229])\n",
      "tensor([0.1000, 0.5000]) tensor([-0.4967, -0.5737])\n",
      "tensor([0.1000, 0.5000]) tensor([-0.2780, -0.4162])\n",
      "tensor([0.1000, 0.5000]) tensor([1.6933, 1.2659])\n",
      "tensor([0.1000, 0.5000]) tensor([ 0.3496, -0.7237])\n",
      "tensor([0.1000, 0.5000]) tensor([-0.5839,  0.0588])\n",
      "tensor([0.1000, 0.5000]) tensor([0.4111, 2.0474])\n"
     ]
    },
    {
     "data": {
      "text/plain": [
       "tensor(0.)"
      ]
     },
     "execution_count": 16,
     "metadata": {},
     "output_type": "execute_result"
    }
   ],
   "source": [
    "\"\"\" function C_t \"\"\"\n",
    "import torch\n",
    "\n",
    "# Function to compute the indicator function I_B(x_j(t_i), epsilon)\n",
    "def indicator_function(x, x_j_point, epsilon=1e-2):\n",
    "    distance = torch.norm(x - x_j_point)\n",
    "    return (distance < epsilon).float()\n",
    "\n",
    "# Function to compute C_t(x)\n",
    "def compute_Ct(x, X):\n",
    "    #X is matrix of computed values X_j shape(N, n)\n",
    "    C_t_x = 0\n",
    "    for i in range(N):\n",
    "        for j in range(n):\n",
    "            C_t_x += indicator_function(x, X[i,j])\n",
    "            print(x, X[i,j])\n",
    "    C_t_x /= N * 0.1 ###0.1 end time (n * T_s)\n",
    "    return C_t_x\n",
    "n = 10\n",
    "N = 5\n",
    "X = torch.randn([N,n,2])\n",
    "compute_Ct(torch.tensor([0.1,0.5]), X)"
   ]
  }
 ],
 "metadata": {
  "kernelspec": {
   "display_name": "Python 3",
   "language": "python",
   "name": "python3"
  },
  "language_info": {
   "codemirror_mode": {
    "name": "ipython",
    "version": 3
   },
   "file_extension": ".py",
   "mimetype": "text/x-python",
   "name": "python",
   "nbconvert_exporter": "python",
   "pygments_lexer": "ipython3",
   "version": "3.11.0"
  }
 },
 "nbformat": 4,
 "nbformat_minor": 2
}
