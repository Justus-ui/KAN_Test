{
 "cells": [
  {
   "cell_type": "code",
   "execution_count": 2,
   "metadata": {},
   "outputs": [
    {
     "name": "stderr",
     "output_type": "stream",
     "text": [
      "c:\\Users\\prass\\AppData\\Local\\Programs\\Python\\Python311\\Lib\\site-packages\\torch\\functional.py:507: UserWarning: torch.meshgrid: in an upcoming release, it will be required to pass the indexing argument. (Triggered internally at ..\\aten\\src\\ATen\\native\\TensorShape.cpp:3550.)\n",
      "  return _VF.meshgrid(tensors, **kwargs)  # type: ignore[attr-defined]\n"
     ]
    }
   ],
   "source": [
    "import torch\n",
    "import numpy as np\n",
    "import matplotlib.pyplot as plt\n",
    "\n",
    "def compute_Ct(x, X, eps=1e-3):\n",
    "    \"\"\"\n",
    "    Computes C_t(x, X) which counts the number of times the distance between each\n",
    "    element in X and x is less than eps (threshold).\n",
    "    \n",
    "    Args:\n",
    "    - x (torch.Tensor): A tensor representing a batch of reference points (num_x, in_dim).\n",
    "    - X (torch.Tensor): Matrix of shape (num_timesteps, N_Agents, in_dim).\n",
    "    - eps (float): Small radius defining the threshold for the ball.\n",
    "    \n",
    "    Returns:\n",
    "    - Ct (torch.Tensor): A tensor with the count for each x in the batch (num_x,).\n",
    "    \"\"\"\n",
    "    distance = torch.linalg.vector_norm(X.unsqueeze(0) - x.unsqueeze(1).unsqueeze(1).unsqueeze(1), dim=4, ord = float('inf'))  # Broadcasting over x\n",
    "    #Ct_approx = torch.exp(-0.5 * ((distance - eps) / 1e-4)**2).sum(dim=(1, 2))\n",
    "    Ct_approx = (torch.clamp(eps - distance, min=0) * (3 / eps)).sum(dim=(2, 3))\n",
    "    Ct_true = (distance < eps).float().sum(dim=(2, 3))\n",
    "    #Ct =distance.sum(dim=(1, 2))\n",
    "    #print(Ct.grad_fn)\n",
    "    return Ct_true, Ct_approx\n",
    "\n",
    "# Create synthetic data\n",
    "num_timesteps = 10\n",
    "N_Agents = 5\n",
    "in_dim = 2\n",
    "#num_grid_points = 100\n",
    "\n",
    "# Random tensor representing agent positions (X)\n",
    "X = torch.randn(16, num_timesteps, N_Agents, in_dim, requires_grad = True)\n",
    "# Define a range for x (reference points) over a meshgrid\n",
    "eps = 1e-3\n",
    "x_vals = torch.arange(0 ,1, eps * 2)  # Define range for x (1D grid)\n",
    "num_grid_points = x_vals.shape[0]\n",
    "X1, X2 = torch.meshgrid(x_vals, x_vals)  # Create a 2D meshgrid for x\n",
    "\n",
    "# Flatten the meshgrid to make it easier to handle in batches\n",
    "x_grid = torch.stack([X1.flatten(), X2.flatten()], dim=1)  # Shape (num_x, 2), where num_x is the number of x values\n",
    "Ct_values = compute_Ct(x_grid, X, eps)"
   ]
  },
  {
   "cell_type": "code",
   "execution_count": 218,
   "metadata": {},
   "outputs": [
    {
     "name": "stdout",
     "output_type": "stream",
     "text": [
      "torch.Size([10000, 16])\n"
     ]
    }
   ],
   "source": [
    "print(Ct_values[0].shape)\n"
   ]
  },
  {
   "cell_type": "code",
   "execution_count": 4,
   "metadata": {},
   "outputs": [],
   "source": [
    "from torch import nn"
   ]
  },
  {
   "cell_type": "code",
   "execution_count": 179,
   "metadata": {},
   "outputs": [
    {
     "data": {
      "text/plain": [
       "tensor(0.0291)"
      ]
     },
     "execution_count": 179,
     "metadata": {},
     "output_type": "execute_result"
    }
   ],
   "source": []
  },
  {
   "cell_type": "code",
   "execution_count": 224,
   "metadata": {},
   "outputs": [],
   "source": [
    "coeffs = torch.fft.rfft2(Ct_values[0][:,1].reshape(num_grid_points,num_grid_points), norm = 'ortho').real\n",
    "#crit = nn.MSELoss()\n",
    "#loss = crit(coeffs, torch.randn_like(coeffs, requires_grad=False))\n",
    "#loss.backward()\n"
   ]
  },
  {
   "cell_type": "code",
   "execution_count": 6,
   "metadata": {},
   "outputs": [
    {
     "data": {
      "text/plain": [
       "tensor(0.)"
      ]
     },
     "execution_count": 6,
     "metadata": {},
     "output_type": "execute_result"
    }
   ],
   "source": [
    "\"\"\" function C_t \"\"\"\n",
    "import torch\n",
    "\n",
    "# Function to compute the indicator function I_B(x_j(t_i), epsilon)\n",
    "def indicator_function(x, x_j_point, epsilon=1e-2):\n",
    "    distance = torch.norm(x - x_j_point)\n",
    "    return (distance < epsilon).float()\n",
    "\n",
    "# Function to compute C_t(x)\n",
    "def compute_Ct(x, X):\n",
    "    \"\"\"\n",
    "    X is matrix of computed values X_j shape(num_timessteps, N_Agents, in_dim)\n",
    "    eps: radius of ball\n",
    "    \"\"\"\n",
    "    eps = 1e-3\n",
    "    return (torch.linalg.vector_norm(X - x , axis = 2) < eps).float().sum()\n",
    "\n",
    "n = 10\n",
    "N = 100\n",
    "X = torch.randn([N,n,2])\n",
    "compute_Ct(torch.tensor([0.1,0.5]), X)"
   ]
  },
  {
   "cell_type": "code",
   "execution_count": 31,
   "metadata": {},
   "outputs": [],
   "source": [
    "import numpy as np\n",
    "from scipy.integrate import nquad\n",
    "\n",
    "def evaluate_integral(k, L):\n",
    "    \"\"\"\n",
    "    Evaluate the integral for multiple k and L values.\n",
    "    \n",
    "    Parameters:\n",
    "    k: List of k values [k1, k2, ...]\n",
    "    L: List of L values [L1, L2, ...]\n",
    "\n",
    "    Returns:\n",
    "    Tensor of the square root of the evaluated integrals.\n",
    "    \"\"\"\n",
    "    def integrand(*args):\n",
    "        result = np.array([1.0])\n",
    "        for i,coeff in enumerate(k.numpy()):\n",
    "            result *= np.cos(coeff * args[i])**2\n",
    "        return result\n",
    "\n",
    "    # Define the integration limits for all dimensions\n",
    "    limits = [(0, L) for L in L.numpy()]\n",
    "\n",
    "    # Compute the nested integral\n",
    "    integral, _ = nquad(integrand, limits)\n",
    "    return torch.tensor(np.sqrt(integral))"
   ]
  },
  {
   "cell_type": "code",
   "execution_count": 279,
   "metadata": {},
   "outputs": [
    {
     "name": "stdout",
     "output_type": "stream",
     "text": [
      "torch.Size([100, 100])\n",
      "torch.Size([100, 100])\n",
      "torch.Size([100, 100]) torch.Size([100, 100])\n",
      "mu_k = 0.9999995827674866\n"
     ]
    }
   ],
   "source": [
    "def mu_k_n_dim(k, mu_function, grid_step=0.01):\n",
    "    \"\"\"\n",
    "    Computes the Fourier coefficient µ_k for the given Fourier indices k_indices in n dimensions.\n",
    "    \n",
    "    Args:\n",
    "    - k_indices: List of integer indices for the Fourier modes (k1, k2, ..., kn).\n",
    "    - mu_function: Function that takes (x1, x2, ..., xn) and returns the value of µ(x1, x2, ..., xn).\n",
    "    - domain_lengths: List of lengths of the domain for each dimension (default is [0,1] in each dimension).\n",
    "    - grid_step: The step size for discretizing the domain.\n",
    "\n",
    "    Returns:\n",
    "    - The Fourier coefficient µ_k.\n",
    "    \"\"\"\n",
    "\n",
    "    L = torch.tensor([1.0, 1.0])\n",
    "    n = len(k)\n",
    "    grids = [torch.arange(0, L, grid_step) for L in L]\n",
    "    meshgrid = torch.meshgrid(*grids)\n",
    "    X = torch.stack(meshgrid, dim=-1)\n",
    "    mu_values = mu_function(*X.unbind(dim=-1))\n",
    "\n",
    "    # Fourier coefficients calculation\n",
    "    k = torch.tensor(k, dtype=torch.float32)\n",
    "    fourier_factors = [torch.cos(k[i] * X[..., i] * torch.pi / L[i]) for i in range(n)]\n",
    "    print(fourier_factors[0].shape)\n",
    "    # Compute the Fourier basis function f_k(x1, x2, ..., xn)\n",
    "    fk = torch.prod(torch.stack(fourier_factors, dim=-1), dim=-1)\n",
    "    print(fk.shape)\n",
    "    # Compute the normalization constant h_k\n",
    "    hk = torch.sqrt(torch.sum(fk**2)) * grid_step\n",
    "\n",
    "    # Normalize the Fourier basis function f_k\n",
    "    fk = fk / hk\n",
    "\n",
    "    # Compute the discrete sum to approximate the inner product (integral)\n",
    "    \n",
    "    # Compute the Fourier coefficient µ_k\n",
    "    print(fk.shape, mu_values.shape)\n",
    "    mu_k_value = torch.sum(mu_values * fk * grid_step**2)\n",
    "\n",
    "    return mu_k_value.item()\n",
    "\n",
    "# Example usage:\n",
    "# Define a function for the PDF (example: Gaussian function)\n",
    "def mu_function(*x):\n",
    "    # Assuming Gaussian PDF centered at (0.5, 0.5, ..., 0.5)\n",
    "    return torch.ones([x[i].shape[0] for i in range(len(x))])\n",
    "    return (1 / ((torch.pi) *(0.01))) * torch.exp(-sum([(xi - 0.5)**2 for xi in x]) / 0.01)\n",
    "# Compute the Fourier coefficient for a given k_indices (e.g., [1, 1, 1] for 3 dimensions)\n",
    "k_indices = [0, 0]\n",
    "result = mu_k_n_dim(k_indices, mu_function)\n",
    "######## Isnt this the MGF?????\n",
    "print(f\"mu_k = {result}\")"
   ]
  },
  {
   "cell_type": "code",
   "execution_count": 249,
   "metadata": {},
   "outputs": [
    {
     "name": "stdout",
     "output_type": "stream",
     "text": [
      "tensor([[[[1., 1., 1.],\n",
      "          [1., 1., 1.]],\n",
      "\n",
      "         [[1., 1., 1.],\n",
      "          [1., 1., 1.]]],\n",
      "\n",
      "\n",
      "        [[[1., 1., 1.],\n",
      "          [1., 1., 1.]],\n",
      "\n",
      "         [[1., 1., 1.],\n",
      "          [1., 1., 1.]]]])\n"
     ]
    },
    {
     "data": {
      "text/plain": [
       "tensor([[[1., 1.],\n",
       "         [1., 1.]],\n",
       "\n",
       "        [[1., 1.],\n",
       "         [1., 1.]]])"
      ]
     },
     "execution_count": 249,
     "metadata": {},
     "output_type": "execute_result"
    }
   ],
   "source": [
    "x = torch.ones([2,2,2,3])\n",
    "print(x)\n",
    "x[...,1]"
   ]
  },
  {
   "cell_type": "code",
   "execution_count": 124,
   "metadata": {},
   "outputs": [],
   "source": [
    "from itertools import product\n",
    "class Ergodicity_Loss(nn.Module):\n",
    "    def __init__(self, N_Agents, n_timesteps, k_max = 10):\n",
    "        super(Ergodicity_Loss, self).__init__()\n",
    "        self.N_Agents = N_Agents\n",
    "        self.n_timesteps = n_timesteps\n",
    "        self.L = torch.tensor([1.,1.]) ## rectangular area\n",
    "        self.in_dim = 2 ## Dimension of rect\n",
    "        self.k_max = k_max\n",
    "        coeff_shape = [self.k_max for _ in range(len(self.L))]\n",
    "        self.coeffs_density = torch.zeros(coeff_shape)\n",
    "        self.normalization_factors = torch.zeros(coeff_shape)\n",
    "        self.compute_fourier_coefficients_density()\n",
    "        self.criterion = nn.MSELoss()\n",
    "\n",
    "    def compute_normalization_constant(self,k):\n",
    "        \"\"\" \n",
    "        h_k\n",
    "        \"\"\"\n",
    "        return evaluate_integral(k, self.L)\n",
    "\n",
    "    def fourier_basis(self,x, sets):\n",
    "        \"\"\" \n",
    "        x: State at time t_k [Num_timesteps ,Batch_size, N_Agents, in_dim]\n",
    "        k torch.tensor (in_dim)\n",
    "        \"\"\"\n",
    "        k = torch.tensor(sets, dtype = torch.float32)\n",
    "        k *= torch.pi * (self.L)**(-1)\n",
    "        #print(x.shape, k.view(1,1,1,-1).shape)\n",
    "        return (torch.cos(x * k.view(1,1,1,-1)).prod(dim = -1)) #/ self.normalization_factors[sets]\n",
    "\n",
    "        \n",
    "    def compute_fourier_coefficients_agents_at_time_t(self,x, sets):\n",
    "        \"\"\"\n",
    "        x: State of Agents [Num_timesteps ,Batch_size, N_Agents, in_dim] \n",
    "        returns c_k coefficient at time t of shape [Batch_size]\n",
    "        \"\"\"\n",
    "        # For now i just put as calculaated t 1s\n",
    "        transform = self.fourier_basis(x,sets)\n",
    "        #print(transform.shape, \"trans\")\n",
    "        c_k = transform.sum(dim=-3).sum(dim=-1)    \n",
    "        return c_k / (self.N_Agents * self.n_timesteps)\n",
    "\n",
    "    def charcteristic_function_density(self, k):\n",
    "        \"\"\" \n",
    "            Characteristic Function of uniform distirbution over [0,L1] x [0,L2] x ... x [0,Ln]\n",
    "            k tuple of ints\n",
    "            returns\n",
    "            k-th coefficient of charcteristic function!\n",
    "        \"\"\"\n",
    "        coeff = torch.ones(1, dtype=torch.complex64)\n",
    "        for i in range(len(self.L)):\n",
    "            Li = self.L[i]\n",
    "            ki = k[i]\n",
    "            if ki != 0:\n",
    "                integral = (torch.exp(1j * ki * Li) - 1) / (1j * ki)\n",
    "            else:\n",
    "                integral = Li\n",
    "            coeff *= integral / Li\n",
    "        return coeff\n",
    "    \n",
    "    def compute_fourier_coefficients_density(self):\n",
    "        k = list(range(self.k_max))\n",
    "        for sets in product(k, repeat = len(self.L)):\n",
    "            k = torch.tensor(sets, dtype = torch.float32)\n",
    "            k *= torch.pi * (self.L)**(-1)\n",
    "            self.coeffs_density[sets] = self.charcteristic_function_density(k).real\n",
    "            #self.normalization_factors[sets] = self.compute_normalization_constant(k)\n",
    "        #self.coeffs_density /= self.normalization_factors\n",
    "\n",
    "\n",
    "    def forward(self,x):\n",
    "        \"\"\"\n",
    "        x: State of Agents [Num_timesteps ,Batch_size, N_Agents, in_dim] \n",
    "        \"\"\"\n",
    "        Batch_size = 16\n",
    "        coeffs = torch.zeros([Batch_size] + [self.k_max for _ in range(len(self.L))])\n",
    "        k = list(range(self.k_max))\n",
    "        for sets in product(k, repeat = len(self.L)):\n",
    "            slices = [slice(None)] + list(sets)\n",
    "            coeffs[slices] = self.compute_fourier_coefficients_agents_at_time_t(x,sets)\n",
    "        print(coeffs, self.coeffs_density)\n",
    "        return self.criterion(coeffs, self.coeffs_density.unsqueeze(0).expand_as(coeffs)) ## I am really unhappy with the expand here!\n",
    "\n",
    "        \n",
    "        "
   ]
  },
  {
   "cell_type": "code",
   "execution_count": 126,
   "metadata": {},
   "outputs": [
    {
     "name": "stdout",
     "output_type": "stream",
     "text": [
      "tensor([[[ 1.0000e+00, -7.4982e-02, -2.3091e-01,  ..., -8.2971e-02,\n",
      "          -6.2093e-02,  9.0796e-02],\n",
      "         [-1.5064e-01,  2.3775e-02,  1.7030e-01,  ...,  4.3491e-02,\n",
      "          -1.1487e-01,  1.3915e-01],\n",
      "         [ 4.2465e-02, -2.6681e-02,  4.4226e-02,  ...,  4.2981e-02,\n",
      "          -6.1575e-03, -4.5210e-02],\n",
      "         ...,\n",
      "         [ 2.9300e-02,  3.0520e-02, -8.6058e-02,  ...,  9.0341e-02,\n",
      "           1.5022e-02,  3.3647e-02],\n",
      "         [-8.9241e-02,  3.7685e-02,  1.7891e-02,  ..., -1.7048e-02,\n",
      "           1.1794e-01, -8.6747e-03],\n",
      "         [ 4.6646e-02, -2.3684e-02, -1.5495e-01,  ..., -6.3774e-02,\n",
      "           7.6490e-02, -1.6855e-01]],\n",
      "\n",
      "        [[ 1.0000e+00,  1.9093e-01, -2.4707e-02,  ..., -1.1807e-01,\n",
      "          -2.0799e-01,  5.7966e-02],\n",
      "         [ 3.7947e-02,  1.1834e-01, -3.3694e-02,  ..., -8.5968e-02,\n",
      "          -1.6600e-01, -9.1385e-02],\n",
      "         [-2.8275e-02,  4.2978e-02,  6.7229e-02,  ..., -6.8800e-02,\n",
      "          -5.3178e-02,  3.9858e-02],\n",
      "         ...,\n",
      "         [-6.8956e-02,  4.0788e-02, -3.1931e-02,  ...,  3.9571e-02,\n",
      "          -3.5042e-03, -8.1372e-03],\n",
      "         [ 1.3886e-01,  7.8673e-02, -1.8820e-02,  ..., -1.0563e-02,\n",
      "           5.7778e-02,  9.9358e-03],\n",
      "         [ 5.2899e-02,  1.4121e-02,  1.2528e-02,  ..., -5.1118e-02,\n",
      "           7.0725e-02,  9.1457e-02]],\n",
      "\n",
      "        [[ 1.0000e+00,  3.1825e-02,  3.3235e-02,  ..., -3.8373e-03,\n",
      "          -7.4494e-02, -6.8963e-02],\n",
      "         [-9.8179e-02, -2.8450e-02,  1.0688e-02,  ..., -6.5334e-02,\n",
      "           3.2546e-02, -2.2944e-02],\n",
      "         [ 7.6153e-02, -6.7845e-02, -1.5939e-02,  ..., -3.4398e-02,\n",
      "           1.0774e-01,  8.2632e-02],\n",
      "         ...,\n",
      "         [ 7.1564e-02, -1.0067e-01,  1.5302e-01,  ..., -1.2546e-02,\n",
      "          -1.1370e-01, -1.3802e-01],\n",
      "         [-9.8586e-02, -3.9984e-02,  1.3608e-01,  ..., -6.5568e-02,\n",
      "          -7.0271e-02,  1.6694e-02],\n",
      "         [ 5.2878e-02, -5.4573e-02,  9.2399e-02,  ...,  6.6403e-02,\n",
      "           7.3038e-02, -1.3716e-01]],\n",
      "\n",
      "        ...,\n",
      "\n",
      "        [[ 1.0000e+00,  1.9107e-03, -5.8612e-02,  ..., -7.7910e-03,\n",
      "           2.9957e-02,  5.7974e-02],\n",
      "         [-1.6695e-03,  8.9843e-02,  6.1664e-03,  ...,  3.6451e-02,\n",
      "          -2.3014e-03, -7.3402e-02],\n",
      "         [-3.0102e-02,  9.7835e-02,  3.4934e-02,  ..., -9.4585e-02,\n",
      "          -3.3930e-03, -1.3685e-02],\n",
      "         ...,\n",
      "         [ 9.6907e-03, -4.7345e-02, -6.7296e-03,  ...,  6.2190e-02,\n",
      "           4.1757e-02,  3.6853e-02],\n",
      "         [-3.2237e-02, -1.2988e-01, -8.9107e-03,  ...,  4.2502e-02,\n",
      "          -1.6567e-02, -3.2099e-02],\n",
      "         [-1.0229e-01,  1.5877e-01, -2.5405e-02,  ..., -1.2879e-01,\n",
      "          -5.4794e-03, -6.2234e-03]],\n",
      "\n",
      "        [[ 1.0000e+00, -2.9161e-02, -1.6680e-03,  ..., -5.7155e-02,\n",
      "           2.1786e-01,  7.3393e-02],\n",
      "         [ 3.5795e-02,  1.1241e-01, -7.1557e-02,  ...,  1.3191e-01,\n",
      "           7.2970e-02, -4.1089e-02],\n",
      "         [ 1.9893e-01, -9.3883e-02, -7.8839e-02,  ..., -6.0262e-02,\n",
      "           3.0242e-02,  1.3334e-01],\n",
      "         ...,\n",
      "         [-1.2509e-01,  5.3933e-02, -1.3040e-01,  ...,  1.6522e-01,\n",
      "          -1.8484e-02,  1.2030e-01],\n",
      "         [ 1.2478e-01, -1.1725e-02, -4.2772e-02,  ...,  3.7982e-02,\n",
      "           5.8807e-02, -2.7589e-02],\n",
      "         [ 4.6585e-02,  6.3595e-02,  5.2704e-02,  ..., -3.7077e-02,\n",
      "           2.9285e-02, -1.2368e-02]],\n",
      "\n",
      "        [[ 1.0000e+00, -1.7473e-01, -2.7511e-02,  ..., -1.5564e-01,\n",
      "           1.5928e-01, -8.1887e-02],\n",
      "         [-1.6501e-01,  8.0599e-02, -2.0297e-02,  ..., -5.6250e-02,\n",
      "          -2.2283e-02,  3.4892e-03],\n",
      "         [ 6.4615e-03,  3.1484e-02, -7.3733e-02,  ...,  9.9489e-02,\n",
      "          -1.1212e-01,  2.8191e-02],\n",
      "         ...,\n",
      "         [ 8.8912e-02, -1.0734e-01,  1.1261e-01,  ..., -1.4219e-02,\n",
      "           2.0427e-01, -1.2741e-01],\n",
      "         [ 6.3633e-02,  5.7551e-03,  4.8085e-02,  ...,  1.9906e-04,\n",
      "          -1.0746e-01,  1.1630e-01],\n",
      "         [ 3.0952e-02,  1.6917e-01, -1.3890e-01,  ..., -2.7575e-02,\n",
      "          -8.4579e-02, -1.6068e-02]]], grad_fn=<CopySlices>) tensor([[ 1.0000e+00, -2.7828e-08,  2.7828e-08, -2.5305e-09,  2.7828e-08,\n",
      "         -4.3006e-08,  2.5305e-09, -6.0352e-08,  2.7828e-08, -2.5305e-09],\n",
      "        [-2.7828e-08, -4.0528e-01, -7.7437e-16, -1.3509e-01, -7.7437e-16,\n",
      "         -8.1057e-02, -7.0419e-17, -5.7898e-02, -7.7437e-16, -4.5032e-02],\n",
      "        [ 2.7828e-08, -7.7437e-16,  7.7437e-16, -7.0419e-17,  7.7437e-16,\n",
      "         -1.1967e-15,  7.0419e-17, -1.6795e-15,  7.7437e-16, -7.0419e-17],\n",
      "        [-2.5305e-09, -1.3509e-01, -7.0419e-17, -4.5032e-02, -7.0419e-17,\n",
      "         -2.7019e-02, -6.4036e-18, -1.9299e-02, -7.0419e-17, -1.5011e-02],\n",
      "        [ 2.7828e-08, -7.7437e-16,  7.7437e-16, -7.0419e-17,  7.7437e-16,\n",
      "         -1.1967e-15,  7.0419e-17, -1.6795e-15,  7.7437e-16, -7.0419e-17],\n",
      "        [-4.3006e-08, -8.1057e-02, -1.1967e-15, -2.7019e-02, -1.1967e-15,\n",
      "         -1.6211e-02, -1.0883e-16, -1.1580e-02, -1.1967e-15, -9.0063e-03],\n",
      "        [ 2.5305e-09, -7.0419e-17,  7.0419e-17, -6.4036e-18,  7.0419e-17,\n",
      "         -1.0883e-16,  6.4036e-18, -1.5272e-16,  7.0419e-17, -6.4036e-18],\n",
      "        [-6.0352e-08, -5.7898e-02, -1.6795e-15, -1.9299e-02, -1.6795e-15,\n",
      "         -1.1580e-02, -1.5272e-16, -8.2711e-03, -1.6795e-15, -6.4331e-03],\n",
      "        [ 2.7828e-08, -7.7437e-16,  7.7437e-16, -7.0419e-17,  7.7437e-16,\n",
      "         -1.1967e-15,  7.0419e-17, -1.6795e-15,  7.7437e-16, -7.0419e-17],\n",
      "        [-2.5305e-09, -4.5032e-02, -7.0419e-17, -1.5011e-02, -7.0419e-17,\n",
      "         -9.0063e-03, -6.4036e-18, -6.4331e-03, -7.0419e-17, -5.0035e-03]])\n"
     ]
    },
    {
     "data": {
      "text/plain": [
       "tensor(0.0096, grad_fn=<MseLossBackward0>)"
      ]
     },
     "execution_count": 126,
     "metadata": {},
     "output_type": "execute_result"
    }
   ],
   "source": [
    "N_Agents = 4\n",
    "num_timesteps = 10\n",
    "X = torch.rand([num_timesteps,16,N_Agents,2], requires_grad = True)\n",
    "Loss = Ergodicity_Loss(N_Agents, num_timesteps)\n",
    "Loss(X)"
   ]
  },
  {
   "cell_type": "code",
   "execution_count": null,
   "metadata": {},
   "outputs": [],
   "source": []
  },
  {
   "cell_type": "code",
   "execution_count": 43,
   "metadata": {},
   "outputs": [
    {
     "name": "stdout",
     "output_type": "stream",
     "text": [
      "tensor([[ 1.0000e+00, -1.9677e-08,  1.9677e-08, -1.7894e-09,  1.9677e-08,\n",
      "         -3.0410e-08,  1.7894e-09, -4.2675e-08,  1.9677e-08, -1.7894e-09],\n",
      "        [-1.9677e-08, -2.0264e-01, -3.8719e-16, -6.7547e-02, -3.8719e-16,\n",
      "         -4.0528e-02, -3.5209e-17, -2.8949e-02, -3.8719e-16, -2.2516e-02],\n",
      "        [ 1.9677e-08, -3.8719e-16,  3.8719e-16, -3.5209e-17,  3.8719e-16,\n",
      "         -5.9837e-16,  3.5209e-17, -8.3973e-16,  3.8719e-16, -3.5209e-17],\n",
      "        [-1.7894e-09, -6.7547e-02, -3.5209e-17, -2.2516e-02, -3.5209e-17,\n",
      "         -1.3509e-02, -3.2018e-18, -9.6496e-03, -3.5209e-17, -7.5053e-03],\n",
      "        [ 1.9677e-08, -3.8719e-16,  3.8719e-16, -3.5209e-17,  3.8719e-16,\n",
      "         -5.9837e-16,  3.5209e-17, -8.3973e-16,  3.8719e-16, -3.5209e-17],\n",
      "        [-3.0410e-08, -4.0528e-02, -5.9837e-16, -1.3509e-02, -5.9837e-16,\n",
      "         -8.1057e-03, -5.4414e-17, -5.7898e-03, -5.9837e-16, -4.5032e-03],\n",
      "        [ 1.7894e-09, -3.5209e-17,  3.5209e-17, -3.2018e-18,  3.5209e-17,\n",
      "         -5.4414e-17,  3.2018e-18, -7.6362e-17,  3.5209e-17, -3.2018e-18],\n",
      "        [-4.2675e-08, -2.8949e-02, -8.3973e-16, -9.6496e-03, -8.3973e-16,\n",
      "         -5.7898e-03, -7.6362e-17, -4.1356e-03, -8.3973e-16, -3.2165e-03],\n",
      "        [ 1.9677e-08, -3.8719e-16,  3.8719e-16, -3.5209e-17,  3.8719e-16,\n",
      "         -5.9837e-16,  3.5209e-17, -8.3973e-16,  3.8719e-16, -3.5209e-17],\n",
      "        [-1.7894e-09, -2.2516e-02, -3.5209e-17, -7.5053e-03, -3.5209e-17,\n",
      "         -4.5032e-03, -3.2018e-18, -3.2165e-03, -3.5209e-17, -2.5018e-03]])\n",
      "tensor([[1.0000, 0.7071, 0.7071, 0.7071, 0.7071, 0.7071, 0.7071, 0.7071, 0.7071,\n",
      "         0.7071],\n",
      "        [0.7071, 0.5000, 0.5000, 0.5000, 0.5000, 0.5000, 0.5000, 0.5000, 0.5000,\n",
      "         0.5000],\n",
      "        [0.7071, 0.5000, 0.5000, 0.5000, 0.5000, 0.5000, 0.5000, 0.5000, 0.5000,\n",
      "         0.5000],\n",
      "        [0.7071, 0.5000, 0.5000, 0.5000, 0.5000, 0.5000, 0.5000, 0.5000, 0.5000,\n",
      "         0.5000],\n",
      "        [0.7071, 0.5000, 0.5000, 0.5000, 0.5000, 0.5000, 0.5000, 0.5000, 0.5000,\n",
      "         0.5000],\n",
      "        [0.7071, 0.5000, 0.5000, 0.5000, 0.5000, 0.5000, 0.5000, 0.5000, 0.5000,\n",
      "         0.5000],\n",
      "        [0.7071, 0.5000, 0.5000, 0.5000, 0.5000, 0.5000, 0.5000, 0.5000, 0.5000,\n",
      "         0.5000],\n",
      "        [0.7071, 0.5000, 0.5000, 0.5000, 0.5000, 0.5000, 0.5000, 0.5000, 0.5000,\n",
      "         0.5000],\n",
      "        [0.7071, 0.5000, 0.5000, 0.5000, 0.5000, 0.5000, 0.5000, 0.5000, 0.5000,\n",
      "         0.5000],\n",
      "        [0.7071, 0.5000, 0.5000, 0.5000, 0.5000, 0.5000, 0.5000, 0.5000, 0.5000,\n",
      "         0.5000]])\n"
     ]
    }
   ],
   "source": [
    "print(Loss.coeffs_density)\n",
    "print(Loss.normalization_factors)"
   ]
  },
  {
   "cell_type": "code",
   "execution_count": 47,
   "metadata": {},
   "outputs": [
    {
     "ename": "RuntimeError",
     "evalue": "The size of tensor a (10) must match the size of tensor b (2) at non-singleton dimension 3",
     "output_type": "error",
     "traceback": [
      "\u001b[1;31m---------------------------------------------------------------------------\u001b[0m",
      "\u001b[1;31mRuntimeError\u001b[0m                              Traceback (most recent call last)",
      "\u001b[1;32mc:\\Users\\prass\\Documents\\Code\\KAN\\KAN_Test\\Ergodic_loss.ipynb Cell 13\u001b[0m line \u001b[0;36m7\n\u001b[0;32m      <a href='vscode-notebook-cell:/c%3A/Users/prass/Documents/Code/KAN/KAN_Test/Ergodic_loss.ipynb#X13sZmlsZQ%3D%3D?line=3'>4</a>\u001b[0m \u001b[39m#coeffs = torch.fft.fft2(Ct_values[0][:,j].reshape(num_grid_points,num_grid_points), norm = 'ortho')\u001b[39;00m\n\u001b[0;32m      <a href='vscode-notebook-cell:/c%3A/Users/prass/Documents/Code/KAN/KAN_Test/Ergodic_loss.ipynb#X13sZmlsZQ%3D%3D?line=4'>5</a>\u001b[0m \u001b[39m#print(coeffs[int(k),int(m)])\u001b[39;00m\n\u001b[0;32m      <a href='vscode-notebook-cell:/c%3A/Users/prass/Documents/Code/KAN/KAN_Test/Ergodic_loss.ipynb#X13sZmlsZQ%3D%3D?line=5'>6</a>\u001b[0m Loss \u001b[39m=\u001b[39m Ergodicity_Loss(N_Agents, num_timesteps)\n\u001b[1;32m----> <a href='vscode-notebook-cell:/c%3A/Users/prass/Documents/Code/KAN/KAN_Test/Ergodic_loss.ipynb#X13sZmlsZQ%3D%3D?line=6'>7</a>\u001b[0m Loss\u001b[39m.\u001b[39;49mcompute_fourier_coefficients_agents_at_time_t(X, sets \u001b[39m=\u001b[39;49m [k,m])[j]\n",
      "\u001b[1;32mc:\\Users\\prass\\Documents\\Code\\KAN\\KAN_Test\\Ergodic_loss.ipynb Cell 13\u001b[0m line \u001b[0;36m3\n\u001b[0;32m     <a href='vscode-notebook-cell:/c%3A/Users/prass/Documents/Code/KAN/KAN_Test/Ergodic_loss.ipynb#X13sZmlsZQ%3D%3D?line=30'>31</a>\u001b[0m \u001b[39m\u001b[39m\u001b[39m\"\"\"\u001b[39;00m\n\u001b[0;32m     <a href='vscode-notebook-cell:/c%3A/Users/prass/Documents/Code/KAN/KAN_Test/Ergodic_loss.ipynb#X13sZmlsZQ%3D%3D?line=31'>32</a>\u001b[0m \u001b[39mx: State of Agents [Num_timesteps ,Batch_size, N_Agents, in_dim] \u001b[39;00m\n\u001b[0;32m     <a href='vscode-notebook-cell:/c%3A/Users/prass/Documents/Code/KAN/KAN_Test/Ergodic_loss.ipynb#X13sZmlsZQ%3D%3D?line=32'>33</a>\u001b[0m \u001b[39m\"\"\"\u001b[39;00m\n\u001b[0;32m     <a href='vscode-notebook-cell:/c%3A/Users/prass/Documents/Code/KAN/KAN_Test/Ergodic_loss.ipynb#X13sZmlsZQ%3D%3D?line=33'>34</a>\u001b[0m \u001b[39m# For now i just put as calculaated t 1s\u001b[39;00m\n\u001b[1;32m---> <a href='vscode-notebook-cell:/c%3A/Users/prass/Documents/Code/KAN/KAN_Test/Ergodic_loss.ipynb#X13sZmlsZQ%3D%3D?line=34'>35</a>\u001b[0m transform \u001b[39m=\u001b[39m \u001b[39mself\u001b[39;49m\u001b[39m.\u001b[39;49mfourier_basis(x,sets)\n\u001b[0;32m     <a href='vscode-notebook-cell:/c%3A/Users/prass/Documents/Code/KAN/KAN_Test/Ergodic_loss.ipynb#X13sZmlsZQ%3D%3D?line=35'>36</a>\u001b[0m c_k \u001b[39m=\u001b[39m transform\u001b[39m.\u001b[39msum(dim\u001b[39m=\u001b[39m\u001b[39m-\u001b[39m\u001b[39m2\u001b[39m)\u001b[39m.\u001b[39msum(dim\u001b[39m=\u001b[39m\u001b[39m-\u001b[39m\u001b[39m1\u001b[39m)    \n\u001b[0;32m     <a href='vscode-notebook-cell:/c%3A/Users/prass/Documents/Code/KAN/KAN_Test/Ergodic_loss.ipynb#X13sZmlsZQ%3D%3D?line=36'>37</a>\u001b[0m \u001b[39mreturn\u001b[39;00m c_k\n",
      "\u001b[1;32mc:\\Users\\prass\\Documents\\Code\\KAN\\KAN_Test\\Ergodic_loss.ipynb Cell 13\u001b[0m line \u001b[0;36m2\n\u001b[0;32m     <a href='vscode-notebook-cell:/c%3A/Users/prass/Documents/Code/KAN/KAN_Test/Ergodic_loss.ipynb#X13sZmlsZQ%3D%3D?line=24'>25</a>\u001b[0m k \u001b[39m=\u001b[39m torch\u001b[39m.\u001b[39mtensor(sets, dtype \u001b[39m=\u001b[39m torch\u001b[39m.\u001b[39mfloat32)\n\u001b[0;32m     <a href='vscode-notebook-cell:/c%3A/Users/prass/Documents/Code/KAN/KAN_Test/Ergodic_loss.ipynb#X13sZmlsZQ%3D%3D?line=25'>26</a>\u001b[0m k \u001b[39m*\u001b[39m\u001b[39m=\u001b[39m torch\u001b[39m.\u001b[39mpi \u001b[39m*\u001b[39m (\u001b[39mself\u001b[39m\u001b[39m.\u001b[39mL)\u001b[39m*\u001b[39m\u001b[39m*\u001b[39m(\u001b[39m-\u001b[39m\u001b[39m1\u001b[39m)\n\u001b[1;32m---> <a href='vscode-notebook-cell:/c%3A/Users/prass/Documents/Code/KAN/KAN_Test/Ergodic_loss.ipynb#X13sZmlsZQ%3D%3D?line=26'>27</a>\u001b[0m \u001b[39mreturn\u001b[39;00m (torch\u001b[39m.\u001b[39mcos(x \u001b[39m*\u001b[39;49m k\u001b[39m.\u001b[39;49mview(\u001b[39m1\u001b[39;49m,\u001b[39m1\u001b[39;49m,\u001b[39m1\u001b[39;49m,\u001b[39m-\u001b[39;49m\u001b[39m1\u001b[39;49m))\u001b[39m.\u001b[39mprod(dim \u001b[39m=\u001b[39m \u001b[39m-\u001b[39m\u001b[39m1\u001b[39m)) \u001b[39m/\u001b[39m \u001b[39mself\u001b[39m\u001b[39m.\u001b[39mnormalization_factors[sets]\n",
      "\u001b[1;31mRuntimeError\u001b[0m: The size of tensor a (10) must match the size of tensor b (2) at non-singleton dimension 3"
     ]
    }
   ],
   "source": [
    "j = 6\n",
    "k = 499.\n",
    "m = 499. \n",
    "#coeffs = torch.fft.fft2(Ct_values[0][:,j].reshape(num_grid_points,num_grid_points), norm = 'ortho')\n",
    "#print(coeffs[int(k),int(m)])\n",
    "Loss = Ergodicity_Loss(N_Agents, num_timesteps)\n",
    "Loss.compute_fourier_coefficients_agents_at_time_t(X, sets = [k,m])[j]"
   ]
  },
  {
   "cell_type": "code",
   "execution_count": null,
   "metadata": {},
   "outputs": [],
   "source": [
    "# Define grid size and frequency components\n",
    "N1, N2 = 128, 128\n",
    "K1, K2 = 1, 1  # Example frequencies\n",
    "x1 = torch.linspace(0, 2 * torch.pi, N1)\n",
    "x2 = torch.linspace(0, 2 * torch.pi, N2)\n",
    "\n",
    "# Create a 2D grid of values (x1, x2)\n",
    "X1, X2 = torch.meshgrid(x1, x2)\n",
    "Loss.fourier_basis()\n",
    "f_k_fft = torch.fft.fft2(fk)\n",
    "print(f_k_fft)"
   ]
  },
  {
   "cell_type": "code",
   "execution_count": 229,
   "metadata": {},
   "outputs": [
    {
     "data": {
      "text/plain": [
       "torch.Size([500, 500])"
      ]
     },
     "execution_count": 229,
     "metadata": {},
     "output_type": "execute_result"
    }
   ],
   "source": [
    "coeffs.shape"
   ]
  },
  {
   "cell_type": "code",
   "execution_count": null,
   "metadata": {},
   "outputs": [],
   "source": [
    "x1 = torch.linspace(0, 1) \n",
    "x2 = torch.linspace(0, 1)\n",
    "X1, X2 = torch.meshgrid(x1, x2)\n",
    "Z = compute_Ct(X1, X2)\n",
    "fftn = torch.fft.fftn(x)"
   ]
  }
 ],
 "metadata": {
  "kernelspec": {
   "display_name": "Python 3",
   "language": "python",
   "name": "python3"
  },
  "language_info": {
   "codemirror_mode": {
    "name": "ipython",
    "version": 3
   },
   "file_extension": ".py",
   "mimetype": "text/x-python",
   "name": "python",
   "nbconvert_exporter": "python",
   "pygments_lexer": "ipython3",
   "version": "3.11.0"
  }
 },
 "nbformat": 4,
 "nbformat_minor": 2
}
